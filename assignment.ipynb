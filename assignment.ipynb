{
 "cells": [
  {
   "cell_type": "markdown",
   "metadata": {},
   "source": [
    "# Generating Date of doctors with speciality and appointments "
   ]
  },
  {
   "cell_type": "code",
   "execution_count": 2,
   "metadata": {},
   "outputs": [
    {
     "name": "stdout",
     "output_type": "stream",
     "text": [
      "   DoctorID       DoctorName AppointmentDate    Specialty\n",
      "0         1      Jose Daniel      2023-11-24   Cardiology\n",
      "1         2     Stephanie Wu      2023-02-27  Dermatology\n",
      "2         3   Timothy Flores      2023-01-13   Cardiology\n",
      "3         4  Alyssa Caldwell      2023-05-21  Orthopedics\n",
      "4         5  Mallory Barnett      2023-05-06    Neurology\n"
     ]
    },
    {
     "name": "stdout",
     "output_type": "stream",
     "text": [
      "Collecting faker\n",
      "  Downloading Faker-20.1.0-py3-none-any.whl.metadata (15 kB)\n",
      "Requirement already satisfied: python-dateutil>=2.4 in c:\\users\\ghulam.ghaus\\.conda\\envs\\python12\\lib\\site-packages (from faker) (2.8.2)\n",
      "Requirement already satisfied: six>=1.5 in c:\\users\\ghulam.ghaus\\.conda\\envs\\python12\\lib\\site-packages (from python-dateutil>=2.4->faker) (1.16.0)\n",
      "Downloading Faker-20.1.0-py3-none-any.whl (1.7 MB)\n",
      "   ---------------------------------------- 0.0/1.7 MB ? eta -:--:--\n",
      "   ---------------------------------------- 0.0/1.7 MB ? eta -:--:--\n",
      "    --------------------------------------- 0.0/1.7 MB 325.1 kB/s eta 0:00:06\n",
      "    --------------------------------------- 0.0/1.7 MB 279.3 kB/s eta 0:00:07\n",
      "    --------------------------------------- 0.0/1.7 MB 279.3 kB/s eta 0:00:07\n",
      "   - -------------------------------------- 0.1/1.7 MB 297.7 kB/s eta 0:00:06\n",
      "   - -------------------------------------- 0.1/1.7 MB 280.5 kB/s eta 0:00:06\n",
      "   -- ------------------------------------- 0.1/1.7 MB 291.5 kB/s eta 0:00:06\n",
      "   -- ------------------------------------- 0.1/1.7 MB 312.2 kB/s eta 0:00:06\n",
      "   -- ------------------------------------- 0.1/1.7 MB 288.1 kB/s eta 0:00:06\n",
      "   --- ------------------------------------ 0.1/1.7 MB 303.9 kB/s eta 0:00:06\n",
      "   --- ------------------------------------ 0.2/1.7 MB 295.6 kB/s eta 0:00:06\n",
      "   ---- ----------------------------------- 0.2/1.7 MB 308.5 kB/s eta 0:00:06\n",
      "   ---- ----------------------------------- 0.2/1.7 MB 327.4 kB/s eta 0:00:05\n",
      "   ---- ----------------------------------- 0.2/1.7 MB 311.3 kB/s eta 0:00:05\n",
      "   ---- ----------------------------------- 0.2/1.7 MB 311.3 kB/s eta 0:00:05\n",
      "   ----- ---------------------------------- 0.2/1.7 MB 312.6 kB/s eta 0:00:05\n",
      "   ----- ---------------------------------- 0.2/1.7 MB 306.5 kB/s eta 0:00:05\n",
      "   ----- ---------------------------------- 0.3/1.7 MB 314.7 kB/s eta 0:00:05\n",
      "   ------ --------------------------------- 0.3/1.7 MB 321.5 kB/s eta 0:00:05\n",
      "   ------- -------------------------------- 0.3/1.7 MB 327.8 kB/s eta 0:00:05\n",
      "   ------- -------------------------------- 0.3/1.7 MB 338.2 kB/s eta 0:00:05\n",
      "   -------- ------------------------------- 0.4/1.7 MB 348.2 kB/s eta 0:00:04\n",
      "   -------- ------------------------------- 0.4/1.7 MB 342.3 kB/s eta 0:00:05\n",
      "   -------- ------------------------------- 0.4/1.7 MB 342.3 kB/s eta 0:00:05\n",
      "   --------- ------------------------------ 0.4/1.7 MB 341.0 kB/s eta 0:00:04\n",
      "   --------- ------------------------------ 0.4/1.7 MB 336.2 kB/s eta 0:00:04\n",
      "   --------- ------------------------------ 0.4/1.7 MB 336.2 kB/s eta 0:00:04\n",
      "   --------- ------------------------------ 0.4/1.7 MB 327.7 kB/s eta 0:00:04\n",
      "   --------- ------------------------------ 0.4/1.7 MB 327.7 kB/s eta 0:00:04\n",
      "   ---------- ----------------------------- 0.5/1.7 MB 323.8 kB/s eta 0:00:04\n",
      "   ---------- ----------------------------- 0.5/1.7 MB 313.3 kB/s eta 0:00:05\n",
      "   ----------- ---------------------------- 0.5/1.7 MB 320.7 kB/s eta 0:00:04\n",
      "   ----------- ---------------------------- 0.5/1.7 MB 320.7 kB/s eta 0:00:04\n",
      "   ----------- ---------------------------- 0.5/1.7 MB 307.9 kB/s eta 0:00:05\n",
      "   ----------- ---------------------------- 0.5/1.7 MB 308.8 kB/s eta 0:00:04\n",
      "   ----------- ---------------------------- 0.5/1.7 MB 308.8 kB/s eta 0:00:04\n",
      "   ------------ --------------------------- 0.5/1.7 MB 303.8 kB/s eta 0:00:04\n",
      "   ------------ --------------------------- 0.5/1.7 MB 303.8 kB/s eta 0:00:04\n",
      "   ------------ --------------------------- 0.5/1.7 MB 296.3 kB/s eta 0:00:05\n",
      "   ------------ --------------------------- 0.6/1.7 MB 297.3 kB/s eta 0:00:04\n",
      "   ------------ --------------------------- 0.6/1.7 MB 297.3 kB/s eta 0:00:04\n",
      "   ------------ --------------------------- 0.6/1.7 MB 297.3 kB/s eta 0:00:04\n",
      "   ------------- -------------------------- 0.6/1.7 MB 286.0 kB/s eta 0:00:05\n",
      "   ------------- -------------------------- 0.6/1.7 MB 286.0 kB/s eta 0:00:05\n",
      "   ------------- -------------------------- 0.6/1.7 MB 286.0 kB/s eta 0:00:05\n",
      "   ------------- -------------------------- 0.6/1.7 MB 286.0 kB/s eta 0:00:05\n",
      "   ------------- -------------------------- 0.6/1.7 MB 286.0 kB/s eta 0:00:05\n",
      "   ------------- -------------------------- 0.6/1.7 MB 286.0 kB/s eta 0:00:05\n",
      "   ------------- -------------------------- 0.6/1.7 MB 286.0 kB/s eta 0:00:05\n",
      "   ------------- -------------------------- 0.6/1.7 MB 286.0 kB/s eta 0:00:05\n",
      "   ------------- -------------------------- 0.6/1.7 MB 286.0 kB/s eta 0:00:05\n",
      "   ------------- -------------------------- 0.6/1.7 MB 286.0 kB/s eta 0:00:05\n",
      "   ------------- -------------------------- 0.6/1.7 MB 286.0 kB/s eta 0:00:05\n",
      "   ------------- -------------------------- 0.6/1.7 MB 286.0 kB/s eta 0:00:05\n",
      "   ------------- -------------------------- 0.6/1.7 MB 286.0 kB/s eta 0:00:05\n",
      "   ------------- -------------------------- 0.6/1.7 MB 286.0 kB/s eta 0:00:05\n",
      "   ------------- -------------------------- 0.6/1.7 MB 286.0 kB/s eta 0:00:05\n",
      "   ------------- -------------------------- 0.6/1.7 MB 286.0 kB/s eta 0:00:05\n",
      "   ------------- -------------------------- 0.6/1.7 MB 214.7 kB/s eta 0:00:06\n",
      "   ------------- -------------------------- 0.6/1.7 MB 214.7 kB/s eta 0:00:06\n",
      "   ------------- -------------------------- 0.6/1.7 MB 214.7 kB/s eta 0:00:06\n",
      "   ---------------- ----------------------- 0.7/1.7 MB 236.1 kB/s eta 0:00:05\n",
      "   ---------------- ----------------------- 0.7/1.7 MB 244.0 kB/s eta 0:00:05\n",
      "   ---------------- ----------------------- 0.7/1.7 MB 243.6 kB/s eta 0:00:05\n",
      "   ---------------- ----------------------- 0.7/1.7 MB 243.6 kB/s eta 0:00:05\n",
      "   ----------------- ---------------------- 0.8/1.7 MB 245.3 kB/s eta 0:00:05\n",
      "   ----------------- ---------------------- 0.8/1.7 MB 246.9 kB/s eta 0:00:04\n",
      "   ------------------ --------------------- 0.8/1.7 MB 246.6 kB/s eta 0:00:04\n",
      "   ------------------ --------------------- 0.8/1.7 MB 249.4 kB/s eta 0:00:04\n",
      "   ------------------- -------------------- 0.8/1.7 MB 254.0 kB/s eta 0:00:04\n",
      "   -------------------- ------------------- 0.9/1.7 MB 259.6 kB/s eta 0:00:04\n",
      "   -------------------- ------------------- 0.9/1.7 MB 265.1 kB/s eta 0:00:04\n",
      "   --------------------- ------------------ 0.9/1.7 MB 268.8 kB/s eta 0:00:04\n",
      "   --------------------- ------------------ 1.0/1.7 MB 272.8 kB/s eta 0:00:03\n",
      "   ---------------------- ----------------- 1.0/1.7 MB 277.9 kB/s eta 0:00:03\n",
      "   ----------------------- ---------------- 1.0/1.7 MB 285.8 kB/s eta 0:00:03\n",
      "   ----------------------- ---------------- 1.0/1.7 MB 284.9 kB/s eta 0:00:03\n",
      "   ------------------------ --------------- 1.1/1.7 MB 289.7 kB/s eta 0:00:03\n",
      "   ------------------------- -------------- 1.1/1.7 MB 297.1 kB/s eta 0:00:03\n",
      "   ------------------------- -------------- 1.1/1.7 MB 297.4 kB/s eta 0:00:03\n",
      "   -------------------------- ------------- 1.1/1.7 MB 300.4 kB/s eta 0:00:03\n",
      "   -------------------------- ------------- 1.2/1.7 MB 302.3 kB/s eta 0:00:02\n",
      "   --------------------------- ------------ 1.2/1.7 MB 303.9 kB/s eta 0:00:02\n",
      "   --------------------------- ------------ 1.2/1.7 MB 304.1 kB/s eta 0:00:02\n",
      "   ---------------------------- ----------- 1.2/1.7 MB 307.0 kB/s eta 0:00:02\n",
      "   ----------------------------- ---------- 1.3/1.7 MB 313.6 kB/s eta 0:00:02\n",
      "   ----------------------------- ---------- 1.3/1.7 MB 317.6 kB/s eta 0:00:02\n",
      "   ------------------------------ --------- 1.3/1.7 MB 321.4 kB/s eta 0:00:02\n",
      "   ------------------------------- -------- 1.4/1.7 MB 323.9 kB/s eta 0:00:02\n",
      "   ------------------------------- -------- 1.4/1.7 MB 326.5 kB/s eta 0:00:02\n",
      "   -------------------------------- ------- 1.4/1.7 MB 328.9 kB/s eta 0:00:01\n",
      "   --------------------------------- ------ 1.4/1.7 MB 332.4 kB/s eta 0:00:01\n",
      "   --------------------------------- ------ 1.5/1.7 MB 333.5 kB/s eta 0:00:01\n",
      "   --------------------------------- ------ 1.5/1.7 MB 333.5 kB/s eta 0:00:01\n",
      "   ---------------------------------- ----- 1.5/1.7 MB 335.8 kB/s eta 0:00:01\n",
      "   ---------------------------------- ----- 1.5/1.7 MB 336.8 kB/s eta 0:00:01\n",
      "   ----------------------------------- ---- 1.5/1.7 MB 339.0 kB/s eta 0:00:01\n",
      "   ----------------------------------- ---- 1.6/1.7 MB 338.9 kB/s eta 0:00:01\n",
      "   ------------------------------------ --- 1.6/1.7 MB 341.0 kB/s eta 0:00:01\n",
      "   ------------------------------------ --- 1.6/1.7 MB 341.9 kB/s eta 0:00:01\n",
      "   ------------------------------------- -- 1.6/1.7 MB 344.0 kB/s eta 0:00:01\n",
      "   -------------------------------------- - 1.7/1.7 MB 345.9 kB/s eta 0:00:01\n",
      "   -------------------------------------- - 1.7/1.7 MB 348.9 kB/s eta 0:00:01\n",
      "   ---------------------------------------  1.7/1.7 MB 350.9 kB/s eta 0:00:01\n",
      "   ---------------------------------------  1.7/1.7 MB 350.7 kB/s eta 0:00:01\n",
      "   ---------------------------------------- 1.7/1.7 MB 350.1 kB/s eta 0:00:00\n",
      "Installing collected packages: faker\n",
      "Successfully installed faker-20.1.0\n"
     ]
    }
   ],
   "source": [
    "import pandas as pd\n",
    "import numpy as np\n",
    "from faker import Faker\n",
    "import random\n",
    "from datetime import timedelta\n",
    "\n",
    "# Seed for reproducibility\n",
    "random.seed(42)\n",
    "\n",
    "# Function to generate random dates within a given range\n",
    "def random_dates(start_date, end_date, n=10):\n",
    "    date_range = end_date - start_date\n",
    "    random_dates = [start_date + timedelta(days=random.randint(0, date_range.days)) for _ in range(n)]\n",
    "    return random_dates\n",
    "\n",
    "# Generate sample data for 100 doctors\n",
    "fake = Faker()\n",
    "num_doctors = 100\n",
    "\n",
    "doctor_ids = list(range(1, num_doctors + 1))\n",
    "doctor_names = [fake.DoctorName() for _ in range(num_doctors)]\n",
    "appointment_dates = random_dates(pd.to_datetime('2023-01-01'), pd.to_datetime('2023-12-31'), num_doctors)\n",
    "specialties = [random.choice(['Cardiology', 'Dermatology', 'Orthopedics', 'Neurology', 'Pediatrics']) for _ in range(num_doctors)]\n",
    "\n",
    "# Create DataFrame\n",
    "doctor_data = {\n",
    "    'DoctorID': doctor_ids,\n",
    "    'DoctorName': doctor_names,\n",
    "    'AppointmentDate': appointment_dates,\n",
    "    'Specialty': specialties\n",
    "}\n",
    "\n",
    "doctors_df = pd.DataFrame(doctor_data)\n",
    "\n",
    "# Display the DataFrame\n",
    "print(doctors_df.head())\n"
   ]
  },
  {
   "cell_type": "markdown",
   "metadata": {},
   "source": [
    "\n",
    "# Apply the filter or filter functions on dataframe"
   ]
  },
  {
   "cell_type": "code",
   "execution_count": 4,
   "metadata": {},
   "outputs": [
    {
     "data": {
      "text/html": [
       "<div>\n",
       "<style scoped>\n",
       "    .dataframe tbody tr th:only-of-type {\n",
       "        vertical-align: middle;\n",
       "    }\n",
       "\n",
       "    .dataframe tbody tr th {\n",
       "        vertical-align: top;\n",
       "    }\n",
       "\n",
       "    .dataframe thead th {\n",
       "        text-align: right;\n",
       "    }\n",
       "</style>\n",
       "<table border=\"1\" class=\"dataframe\">\n",
       "  <thead>\n",
       "    <tr style=\"text-align: right;\">\n",
       "      <th></th>\n",
       "      <th>DoctorID</th>\n",
       "      <th>DoctorName</th>\n",
       "      <th>AppointmentDate</th>\n",
       "      <th>Specialty</th>\n",
       "    </tr>\n",
       "  </thead>\n",
       "  <tbody>\n",
       "    <tr>\n",
       "      <th>0</th>\n",
       "      <td>1</td>\n",
       "      <td>Jose Daniel</td>\n",
       "      <td>2023-11-24</td>\n",
       "      <td>Cardiology</td>\n",
       "    </tr>\n",
       "  </tbody>\n",
       "</table>\n",
       "</div>"
      ],
      "text/plain": [
       "   DoctorID   DoctorName AppointmentDate   Specialty\n",
       "0         1  Jose Daniel      2023-11-24  Cardiology"
      ]
     },
     "execution_count": 4,
     "metadata": {},
     "output_type": "execute_result"
    }
   ],
   "source": [
    "doctors_df.head(1)"
   ]
  },
  {
   "cell_type": "markdown",
   "metadata": {},
   "source": [
    "## Count Doctors"
   ]
  },
  {
   "cell_type": "code",
   "execution_count": 10,
   "metadata": {},
   "outputs": [
    {
     "data": {
      "text/plain": [
       "DoctorName\n",
       "Jose Daniel           1\n",
       "David Ortiz           1\n",
       "Vanessa Williams      1\n",
       "Theresa Castillo      1\n",
       "Jennifer Stevenson    1\n",
       "                     ..\n",
       "Thomas Smith III      1\n",
       "Daniel Quinn          1\n",
       "Chase Perez           1\n",
       "Brandi Harrington     1\n",
       "Michael Sexton        1\n",
       "Name: count, Length: 100, dtype: int64"
      ]
     },
     "execution_count": 10,
     "metadata": {},
     "output_type": "execute_result"
    }
   ],
   "source": [
    "doctors_df.DoctorName.value_counts()"
   ]
  },
  {
   "cell_type": "markdown",
   "metadata": {},
   "source": [
    "## Count Doctors Specialities"
   ]
  },
  {
   "cell_type": "code",
   "execution_count": 11,
   "metadata": {},
   "outputs": [
    {
     "data": {
      "text/plain": [
       "Specialty\n",
       "Pediatrics     24\n",
       "Dermatology    22\n",
       "Cardiology     19\n",
       "Orthopedics    18\n",
       "Neurology      17\n",
       "Name: count, dtype: int64"
      ]
     },
     "execution_count": 11,
     "metadata": {},
     "output_type": "execute_result"
    }
   ],
   "source": [
    "doctors_df.Specialty.value_counts()"
   ]
  },
  {
   "cell_type": "code",
   "execution_count": 12,
   "metadata": {},
   "outputs": [
    {
     "data": {
      "text/plain": [
       "Specialty\n",
       "Pediatrics     24\n",
       "Dermatology    22\n",
       "Cardiology     19\n",
       "Orthopedics    18\n",
       "Neurology      17\n",
       "Name: count, dtype: int64"
      ]
     },
     "execution_count": 12,
     "metadata": {},
     "output_type": "execute_result"
    }
   ],
   "source": [
    "doctors_df.Specialty.value_counts(dropna=False)# also counts null cells values"
   ]
  },
  {
   "cell_type": "code",
   "execution_count": 16,
   "metadata": {},
   "outputs": [
    {
     "data": {
      "text/plain": [
       "Specialty\n",
       "Pediatrics     0.24\n",
       "Dermatology    0.22\n",
       "Cardiology     0.19\n",
       "Orthopedics    0.18\n",
       "Neurology      0.17\n",
       "Name: proportion, dtype: float64"
      ]
     },
     "execution_count": 16,
     "metadata": {},
     "output_type": "execute_result"
    }
   ],
   "source": [
    "doctors_df.Specialty.value_counts(dropna=False,normalize=True)# also counts null cells values"
   ]
  },
  {
   "cell_type": "markdown",
   "metadata": {},
   "source": [
    "### multiply by 100 for normal readable percentage"
   ]
  },
  {
   "cell_type": "code",
   "execution_count": 19,
   "metadata": {},
   "outputs": [
    {
     "data": {
      "text/plain": [
       "Specialty\n",
       "Pediatrics     24.0\n",
       "Dermatology    22.0\n",
       "Cardiology     19.0\n",
       "Orthopedics    18.0\n",
       "Neurology      17.0\n",
       "Name: proportion, dtype: float64"
      ]
     },
     "execution_count": 19,
     "metadata": {},
     "output_type": "execute_result"
    }
   ],
   "source": [
    "doctors_df.Specialty.value_counts(dropna=False,normalize=True)*100# also counts null cells values\n"
   ]
  },
  {
   "cell_type": "code",
   "execution_count": 20,
   "metadata": {},
   "outputs": [
    {
     "data": {
      "text/html": [
       "<div>\n",
       "<style scoped>\n",
       "    .dataframe tbody tr th:only-of-type {\n",
       "        vertical-align: middle;\n",
       "    }\n",
       "\n",
       "    .dataframe tbody tr th {\n",
       "        vertical-align: top;\n",
       "    }\n",
       "\n",
       "    .dataframe thead th {\n",
       "        text-align: right;\n",
       "    }\n",
       "</style>\n",
       "<table border=\"1\" class=\"dataframe\">\n",
       "  <thead>\n",
       "    <tr style=\"text-align: right;\">\n",
       "      <th></th>\n",
       "      <th>DoctorID</th>\n",
       "      <th>DoctorName</th>\n",
       "      <th>AppointmentDate</th>\n",
       "      <th>Specialty</th>\n",
       "    </tr>\n",
       "  </thead>\n",
       "  <tbody>\n",
       "    <tr>\n",
       "      <th>0</th>\n",
       "      <td>1</td>\n",
       "      <td>Jose Daniel</td>\n",
       "      <td>2023-11-24</td>\n",
       "      <td>Cardiology</td>\n",
       "    </tr>\n",
       "    <tr>\n",
       "      <th>1</th>\n",
       "      <td>2</td>\n",
       "      <td>Stephanie Wu</td>\n",
       "      <td>2023-02-27</td>\n",
       "      <td>Dermatology</td>\n",
       "    </tr>\n",
       "    <tr>\n",
       "      <th>2</th>\n",
       "      <td>3</td>\n",
       "      <td>Timothy Flores</td>\n",
       "      <td>2023-01-13</td>\n",
       "      <td>Cardiology</td>\n",
       "    </tr>\n",
       "    <tr>\n",
       "      <th>3</th>\n",
       "      <td>4</td>\n",
       "      <td>Alyssa Caldwell</td>\n",
       "      <td>2023-05-21</td>\n",
       "      <td>Orthopedics</td>\n",
       "    </tr>\n",
       "    <tr>\n",
       "      <th>4</th>\n",
       "      <td>5</td>\n",
       "      <td>Mallory Barnett</td>\n",
       "      <td>2023-05-06</td>\n",
       "      <td>Neurology</td>\n",
       "    </tr>\n",
       "    <tr>\n",
       "      <th>...</th>\n",
       "      <td>...</td>\n",
       "      <td>...</td>\n",
       "      <td>...</td>\n",
       "      <td>...</td>\n",
       "    </tr>\n",
       "    <tr>\n",
       "      <th>95</th>\n",
       "      <td>96</td>\n",
       "      <td>Thomas Rojas</td>\n",
       "      <td>2023-12-19</td>\n",
       "      <td>Neurology</td>\n",
       "    </tr>\n",
       "    <tr>\n",
       "      <th>96</th>\n",
       "      <td>97</td>\n",
       "      <td>Kelsey Hopkins</td>\n",
       "      <td>2023-10-13</td>\n",
       "      <td>Dermatology</td>\n",
       "    </tr>\n",
       "    <tr>\n",
       "      <th>97</th>\n",
       "      <td>98</td>\n",
       "      <td>Chad Jones</td>\n",
       "      <td>2023-04-23</td>\n",
       "      <td>Pediatrics</td>\n",
       "    </tr>\n",
       "    <tr>\n",
       "      <th>98</th>\n",
       "      <td>99</td>\n",
       "      <td>Scott Jones</td>\n",
       "      <td>2023-12-17</td>\n",
       "      <td>Dermatology</td>\n",
       "    </tr>\n",
       "    <tr>\n",
       "      <th>99</th>\n",
       "      <td>100</td>\n",
       "      <td>Michael Sexton</td>\n",
       "      <td>2023-06-16</td>\n",
       "      <td>Orthopedics</td>\n",
       "    </tr>\n",
       "  </tbody>\n",
       "</table>\n",
       "<p>100 rows × 4 columns</p>\n",
       "</div>"
      ],
      "text/plain": [
       "    DoctorID       DoctorName AppointmentDate    Specialty\n",
       "0          1      Jose Daniel      2023-11-24   Cardiology\n",
       "1          2     Stephanie Wu      2023-02-27  Dermatology\n",
       "2          3   Timothy Flores      2023-01-13   Cardiology\n",
       "3          4  Alyssa Caldwell      2023-05-21  Orthopedics\n",
       "4          5  Mallory Barnett      2023-05-06    Neurology\n",
       "..       ...              ...             ...          ...\n",
       "95        96     Thomas Rojas      2023-12-19    Neurology\n",
       "96        97   Kelsey Hopkins      2023-10-13  Dermatology\n",
       "97        98       Chad Jones      2023-04-23   Pediatrics\n",
       "98        99      Scott Jones      2023-12-17  Dermatology\n",
       "99       100   Michael Sexton      2023-06-16  Orthopedics\n",
       "\n",
       "[100 rows x 4 columns]"
      ]
     },
     "execution_count": 20,
     "metadata": {},
     "output_type": "execute_result"
    }
   ],
   "source": [
    "doctors_df"
   ]
  },
  {
   "cell_type": "markdown",
   "metadata": {},
   "source": [
    "### date and time filters"
   ]
  },
  {
   "cell_type": "code",
   "execution_count": 22,
   "metadata": {},
   "outputs": [
    {
     "name": "stdout",
     "output_type": "stream",
     "text": [
      "          date   fee\n",
      "0   2023-01-01  4081\n",
      "1   2023-01-01   877\n",
      "2   2023-01-01  2705\n",
      "3   2023-01-01  3902\n",
      "4   2023-01-03  4636\n",
      "..         ...   ...\n",
      "995 2023-12-08  2786\n",
      "996 2023-12-08  4344\n",
      "997 2023-12-08  4330\n",
      "998 2023-12-08  2562\n",
      "999 2023-12-09  3983\n",
      "\n",
      "[1000 rows x 2 columns]\n"
     ]
    }
   ],
   "source": [
    "import pandas as pd\n",
    "import numpy as np\n",
    "from datetime import datetime, timedelta\n",
    "\n",
    "# Set a seed for reproducibility\n",
    "np.random.seed(0)\n",
    "\n",
    "# Define the number of transactions\n",
    "num_transactions = 1000\n",
    "\n",
    "# Generate random dates within the current year\n",
    "current_year = datetime.now().year\n",
    "start_date = datetime(current_year, 1, 1)\n",
    "end_date = datetime.now()\n",
    "\n",
    "# Generate a list of random dates within the year\n",
    "random_dates = [start_date + timedelta(days=np.random.randint(0, (end_date - start_date).days))\n",
    "                for _ in range(num_transactions)]\n",
    "\n",
    "# Generate a list of random fee amounts\n",
    "random_fees = np.random.randint(low=1, high=5000, size=num_transactions)\n",
    "\n",
    "# Create the DataFrame\n",
    "fee_transactions = pd.DataFrame({\n",
    "    'date': random_dates,\n",
    "    'fee': random_fees\n",
    "})\n",
    "\n",
    "# Sort by date for readability\n",
    "fee_transactions.sort_values('date', inplace=True)\n",
    "\n",
    "# Reset index after sorting\n",
    "fee_transactions.reset_index(drop=True, inplace=True)\n",
    "\n",
    "print(fee_transactions)"
   ]
  },
  {
   "cell_type": "code",
   "execution_count": 23,
   "metadata": {},
   "outputs": [
    {
     "data": {
      "text/plain": [
       "0      (4000, 5000]\n",
       "1       (500, 1000]\n",
       "2      (1000, 3000]\n",
       "3      (3000, 4000]\n",
       "4      (4000, 5000]\n",
       "           ...     \n",
       "995    (1000, 3000]\n",
       "996    (4000, 5000]\n",
       "997    (4000, 5000]\n",
       "998    (1000, 3000]\n",
       "999    (3000, 4000]\n",
       "Name: fee, Length: 1000, dtype: category\n",
       "Categories (5, interval[int64, right]): [(1, 500] < (500, 1000] < (1000, 3000] < (3000, 4000] < (4000, 5000]]"
      ]
     },
     "execution_count": 23,
     "metadata": {},
     "output_type": "execute_result"
    }
   ],
   "source": [
    "pd.cut(fee_transactions.fee,\n",
    "       [1,500,1000,3000,4000,5000])"
   ]
  },
  {
   "cell_type": "code",
   "execution_count": 24,
   "metadata": {},
   "outputs": [
    {
     "data": {
      "text/plain": [
       "fee\n",
       "(1000, 3000]    423\n",
       "(3000, 4000]    203\n",
       "(4000, 5000]    194\n",
       "(1, 500]        105\n",
       "(500, 1000]      75\n",
       "Name: count, dtype: int64"
      ]
     },
     "execution_count": 24,
     "metadata": {},
     "output_type": "execute_result"
    }
   ],
   "source": [
    "\n",
    "\n",
    "pd.cut(fee_transactions.fee,\n",
    "       [1,500,1000,3000,4000,5000]).value_counts()\n",
    "\n"
   ]
  },
  {
   "cell_type": "code",
   "execution_count": 25,
   "metadata": {},
   "outputs": [
    {
     "data": {
      "text/plain": [
       "fee\n",
       "(1000, 3000]    42.3\n",
       "(3000, 4000]    20.3\n",
       "(4000, 5000]    19.4\n",
       "(1, 500]        10.5\n",
       "(500, 1000]      7.5\n",
       "Name: proportion, dtype: float64"
      ]
     },
     "execution_count": 25,
     "metadata": {},
     "output_type": "execute_result"
    }
   ],
   "source": [
    "\n",
    "\n",
    "pd.cut(fee_transactions.fee,\n",
    "       [1,500,1000,3000,4000,5000]).value_counts(normalize=True)*100\n",
    "\n"
   ]
  },
  {
   "cell_type": "code",
   "execution_count": 26,
   "metadata": {},
   "outputs": [
    {
     "data": {
      "text/plain": [
       "0      (3547.9, 4461.7]\n",
       "1                   NaN\n",
       "2      (2434.5, 3547.9]\n",
       "3      (3547.9, 4461.7]\n",
       "4      (4461.7, 4998.0]\n",
       "             ...       \n",
       "995    (2434.5, 3547.9]\n",
       "996    (3547.9, 4461.7]\n",
       "997    (3547.9, 4461.7]\n",
       "998    (2434.5, 3547.9]\n",
       "999    (3547.9, 4461.7]\n",
       "Name: fee, Length: 1000, dtype: category\n",
       "Categories (4, interval[float64, right]): [(1565.999, 2434.5] < (2434.5, 3547.9] < (3547.9, 4461.7] < (4461.7, 4998.0]]"
      ]
     },
     "execution_count": 26,
     "metadata": {},
     "output_type": "execute_result"
    }
   ],
   "source": [
    "pd.qcut(fee_transactions.fee, [0.3,.5, .7, .9, 1])"
   ]
  },
  {
   "cell_type": "code",
   "execution_count": 27,
   "metadata": {},
   "outputs": [
    {
     "data": {
      "text/plain": [
       "fee\n",
       "(19.999, 1566.0]    301\n",
       "(2434.5, 3547.9]    200\n",
       "(3547.9, 4461.7]    200\n",
       "(1566.0, 2434.5]    199\n",
       "(4461.7, 4998.0]    100\n",
       "Name: count, dtype: int64"
      ]
     },
     "execution_count": 27,
     "metadata": {},
     "output_type": "execute_result"
    }
   ],
   "source": [
    "pd.qcut(fee_transactions.fee, [0,0.3,.5, .7, .9, 1]).value_counts()"
   ]
  },
  {
   "cell_type": "code",
   "execution_count": 28,
   "metadata": {},
   "outputs": [
    {
     "data": {
      "text/plain": [
       "fee\n",
       "(19.999, 1566.0]    30.1\n",
       "(2434.5, 3547.9]    20.0\n",
       "(3547.9, 4461.7]    20.0\n",
       "(1566.0, 2434.5]    19.9\n",
       "(4461.7, 4998.0]    10.0\n",
       "Name: proportion, dtype: float64"
      ]
     },
     "execution_count": 28,
     "metadata": {},
     "output_type": "execute_result"
    }
   ],
   "source": [
    "pd.qcut(fee_transactions.fee, [0,0.3,.5, .7, .9, 1]).value_counts(normalize=True)*100"
   ]
  },
  {
   "cell_type": "code",
   "execution_count": 30,
   "metadata": {},
   "outputs": [
    {
     "data": {
      "text/html": [
       "<div>\n",
       "<style scoped>\n",
       "    .dataframe tbody tr th:only-of-type {\n",
       "        vertical-align: middle;\n",
       "    }\n",
       "\n",
       "    .dataframe tbody tr th {\n",
       "        vertical-align: top;\n",
       "    }\n",
       "\n",
       "    .dataframe thead th {\n",
       "        text-align: right;\n",
       "    }\n",
       "</style>\n",
       "<table border=\"1\" class=\"dataframe\">\n",
       "  <thead>\n",
       "    <tr style=\"text-align: right;\">\n",
       "      <th></th>\n",
       "      <th>DoctorID</th>\n",
       "      <th>DoctorName</th>\n",
       "      <th>AppointmentDate</th>\n",
       "      <th>Specialty</th>\n",
       "    </tr>\n",
       "  </thead>\n",
       "  <tbody>\n",
       "    <tr>\n",
       "      <th>0</th>\n",
       "      <td>1</td>\n",
       "      <td>Jose Daniel</td>\n",
       "      <td>2023-11-24</td>\n",
       "      <td>Cardiology</td>\n",
       "    </tr>\n",
       "    <tr>\n",
       "      <th>1</th>\n",
       "      <td>2</td>\n",
       "      <td>Stephanie Wu</td>\n",
       "      <td>2023-02-27</td>\n",
       "      <td>Dermatology</td>\n",
       "    </tr>\n",
       "    <tr>\n",
       "      <th>2</th>\n",
       "      <td>3</td>\n",
       "      <td>Timothy Flores</td>\n",
       "      <td>2023-01-13</td>\n",
       "      <td>Cardiology</td>\n",
       "    </tr>\n",
       "    <tr>\n",
       "      <th>3</th>\n",
       "      <td>4</td>\n",
       "      <td>Alyssa Caldwell</td>\n",
       "      <td>2023-05-21</td>\n",
       "      <td>Orthopedics</td>\n",
       "    </tr>\n",
       "    <tr>\n",
       "      <th>4</th>\n",
       "      <td>5</td>\n",
       "      <td>Mallory Barnett</td>\n",
       "      <td>2023-05-06</td>\n",
       "      <td>Neurology</td>\n",
       "    </tr>\n",
       "  </tbody>\n",
       "</table>\n",
       "</div>"
      ],
      "text/plain": [
       "   DoctorID       DoctorName AppointmentDate    Specialty\n",
       "0         1      Jose Daniel      2023-11-24   Cardiology\n",
       "1         2     Stephanie Wu      2023-02-27  Dermatology\n",
       "2         3   Timothy Flores      2023-01-13   Cardiology\n",
       "3         4  Alyssa Caldwell      2023-05-21  Orthopedics\n",
       "4         5  Mallory Barnett      2023-05-06    Neurology"
      ]
     },
     "execution_count": 30,
     "metadata": {},
     "output_type": "execute_result"
    }
   ],
   "source": [
    "doctors_df.head()"
   ]
  },
  {
   "cell_type": "markdown",
   "metadata": {},
   "source": [
    "\n",
    "## filter on columns\n",
    "\n",
    "    * & , | , ~\n",
    "\n",
    "* Syntax:\n",
    "\n",
    "* dataframe[(dataframe.column1=='value1') & (dataframe.column2=='value2)]\n",
    "\n",
    "    * string columns\n",
    "    * numeric columns\n",
    "    * datetime columns\n",
    "\n"
   ]
  },
  {
   "cell_type": "code",
   "execution_count": 45,
   "metadata": {},
   "outputs": [
    {
     "name": "stdout",
     "output_type": "stream",
     "text": [
      "   DoctorID DoctorName PatientName    Specialty AppointmentDate    fee\n",
      "0         1      Alice         Bob   Cardiology      2023-01-10  10000\n",
      "1         2      Brian       Steve   Cardiology      2023-02-12  11000\n",
      "2         3      Chloe         Tim  Dermatology      2023-03-14  12000\n",
      "3         4      David        Rick  Orthopedics      2023-04-10  13000\n",
      "4         5        Eva        John  Orthopedics      2023-05-16  14000\n",
      "5         6      Frank         Tom  Orthopedics      2023-06-21  15000\n",
      "6         7      Grace       Harry  Dermatology      2023-07-25  16000\n",
      "7         8      Henry     Charles  Orthopedics      2023-08-17  17000\n",
      "8         9     Isabel      Oliver  Orthopedics      2023-09-10  18000\n",
      "9        10       Jack        Noah   Cardiology      2023-10-05  19000\n"
     ]
    }
   ],
   "source": [
    "import pandera as pa\n",
    "from pandera.typing import Series\n",
    "from datetime import datetime\n",
    "import pandas as pd\n",
    "\n",
    "# Define the schema using SchemaModel\n",
    "class DoctorSchema(pa.SchemaModel):\n",
    "    DoctorID: Series[int] = pa.Field(ge=1)\n",
    "    DoctorName: Series[str] = pa.Field(nullable=False)\n",
    "    PatientName: Series[str] = pa.Field(nullable=False)\n",
    "    Specialty: Series[str] = pa.Field(nullable=False)\n",
    "    AppointmentDate: Series[datetime] = pa.Field(le=datetime.now())\n",
    "    fee: Series[int] = pa.Field(ge=0)\n",
    "\n",
    "    class Config:\n",
    "        coerce = True  # Automatically coerce types if possible\n",
    "        strict = True  # Ensure all columns are accounted for in the schema\n",
    "\n",
    "# Data for 10 students\n",
    "doctor_data = [\n",
    "    {'DoctorID': 1, 'DoctorName': 'Alice', 'PatientName': 'Bob', 'Specialty': 'Cardiology', 'AppointmentDate': '2023-01-10', 'fee': 10000},\n",
    "    {'DoctorID': 2, 'DoctorName': 'Brian', 'PatientName': 'Steve', 'Specialty': 'Cardiology', 'AppointmentDate': '2023-02-12', 'fee': 11000},\n",
    "    {'DoctorID': 3, 'DoctorName': 'Chloe', 'PatientName': 'Tim', 'Specialty': 'Dermatology', 'AppointmentDate': '2023-03-14', 'fee': 12000},\n",
    "    {'DoctorID': 4, 'DoctorName': 'David', 'PatientName': 'Rick', 'Specialty': 'Orthopedics', 'AppointmentDate': '2023-04-10', 'fee': 13000},\n",
    "    {'DoctorID': 5, 'DoctorName': 'Eva', 'PatientName': 'John', 'Specialty': 'Orthopedics', 'AppointmentDate': '2023-05-16', 'fee': 14000},\n",
    "    {'DoctorID': 6, 'DoctorName': 'Frank', 'PatientName': 'Tom', 'Specialty': 'Orthopedics', 'AppointmentDate': '2023-06-21', 'fee': 15000},\n",
    "    {'DoctorID': 7, 'DoctorName': 'Grace', 'PatientName': 'Harry', 'Specialty': 'Dermatology', 'AppointmentDate': '2023-07-25', 'fee': 16000},\n",
    "    {'DoctorID': 8, 'DoctorName': 'Henry', 'PatientName': 'Charles', 'Specialty': 'Orthopedics', 'AppointmentDate': '2023-08-17', 'fee': 17000},\n",
    "    {'DoctorID': 9, 'DoctorName': 'Isabel', 'PatientName': 'Oliver', 'Specialty': 'Orthopedics', 'AppointmentDate': '2023-09-10', 'fee': 18000},\n",
    "    {'DoctorID': 10, 'DoctorName': 'Jack', 'PatientName': 'Noah', 'Specialty': 'Cardiology', 'AppointmentDate': '2023-10-05', 'fee': 19000},\n",
    "]\n",
    "\n",
    "# Create the DataFrame\n",
    "doctors_df = pd.DataFrame(doctor_data)\n",
    "\n",
    "# Convert 'AppointmentDate' to datetime\n",
    "doctors_df['AppointmentDate'] = pd.to_datetime(doctors_df['AppointmentDate'])\n",
    "\n",
    "# Validate the DataFrame\n",
    "validated_df = DoctorSchema.validate(doctors_df)\n",
    "\n",
    "print(validated_df)"
   ]
  },
  {
   "cell_type": "code",
   "execution_count": null,
   "metadata": {},
   "outputs": [],
   "source": []
  },
  {
   "cell_type": "markdown",
   "metadata": {},
   "source": [
    "## apply filter on date column\n",
    "\n",
    "    * dataframe.column.dt\n",
    "    * dt.strftime\n",
    "    * dt.strptime\n",
    "\n",
    "* In pandas, when you have a datetime column in a DataFrame, you can format the date and time information using the *strftime method which allows for flexible formatting by specifying format codes. Each code represents a different *element of the date and time. Below are some of the commonly used format codes that you can use with strftime:\n",
    "\n",
    "   *  %a - Abbreviated weekday DoctorName.\n",
    "   *  %A - Full weekday DoctorName.\n",
    "   *  %w - Weekday as a decimal number, where 0 is Sunday and 6 is Saturday.\n",
    "   *  %d - Day of the month as a zero-padded decimal number.\n",
    "   *  %b - Abbreviated month DoctorName.\n",
    "   *  %B - Full month DoctorName.\n",
    "   *  %m - Month as a zero-padded decimal number.\n",
    "   *  %y - Year without century as a zero-padded decimal number.\n",
    "   *  %Y - Year with century as a decimal number.\n",
    "  *  *  %H - Hour (24-hour clock) as a zero-padded decimal number.\n",
    "   *  %I - Hour (12-hour clock) as a zero-padded decimal number.\n",
    "   *  %p - Locale’s equivalent of either AM or PM.\n",
    "   *  %M - Minute as a zero-padded decimal number.\n",
    "   *  %S - Second as a zero-padded decimal number.\n",
    "   *  %f - Microsecond as a decimal number, zero-padded on the left.\n",
    "   *  %z - UTC offset in the form ±HHMM[SS[.ffffff]] (empty string if the object is naive).\n",
    "   *  %Z - Time zone DoctorName (empty string if the object is naive).\n",
    "   *  %j - Day of the year as a zero-padded decimal number.\n",
    "   *  %U - Week number of the year (Sunday as the first day of the week) as a zero-padded decimal number.\n",
    "   *  %W - Week number of the year (Monday as the first day of the week) as a zero-padded decimal number.\n",
    "   *  %c - Locale’s appropriate date and time representation.\n",
    "   *  %x - Locale’s appropriate date representation.\n",
    "   *  %X - Locale’s appropriate time representation.\n",
    "   *  %G - ISO 8601 year with century representing the year that contains the greater part of the ISO week (%V).\n",
    "   *  %u - ISO 8601 weekday as a decimal number where 1 is Monday.\n",
    "   *  %V - ISO 8601 week number as a decimal number with Monday as the first day of the week.\n",
    "\n",
    " * Here's a small example of how to use strftime with a pandas DataFrame:\n",
    "\n",
    "* import pandas as pd\n",
    "\n",
    "# Create a sample DataFrame with datetime column\n"
   ]
  },
  {
   "cell_type": "code",
   "execution_count": 46,
   "metadata": {},
   "outputs": [
    {
     "name": "stdout",
     "output_type": "stream",
     "text": [
      "    datetime       formatted_date\n",
      "0 2023-01-01  2023-01-01 00:00:00\n",
      "1 2023-01-02  2023-01-02 00:00:00\n",
      "2 2023-01-03  2023-01-03 00:00:00\n"
     ]
    }
   ],
   "source": [
    "import pandas as pd\n",
    "\n",
    "# Create a sample DataFrame with datetime column\n",
    "df = pd.DataFrame({\n",
    "    'datetime': pd.date_range(start='2023-01-01', periods=3, freq='D')\n",
    "})\n",
    "\n",
    "# Format the 'datetime' column as a string with a specific format\n",
    "df['formatted_date'] = df['datetime'].dt.strftime('%Y-%m-%d %H:%M:%S')\n",
    "\n",
    "print(df)"
   ]
  },
  {
   "cell_type": "code",
   "execution_count": 53,
   "metadata": {},
   "outputs": [
    {
     "data": {
      "text/plain": [
       "0   2023-01-10\n",
       "1   2023-02-12\n",
       "2   2023-03-14\n",
       "3   2023-04-10\n",
       "4   2023-05-16\n",
       "5   2023-06-21\n",
       "6   2023-07-25\n",
       "7   2023-08-17\n",
       "8   2023-09-10\n",
       "9   2023-10-05\n",
       "Name: AppointmentDate, dtype: datetime64[ns]"
      ]
     },
     "execution_count": 53,
     "metadata": {},
     "output_type": "execute_result"
    }
   ],
   "source": [
    "doctors_df['AppointmentDate'] "
   ]
  },
  {
   "cell_type": "code",
   "execution_count": 56,
   "metadata": {},
   "outputs": [
    {
     "name": "stdout",
     "output_type": "stream",
     "text": [
      "0    2023\n",
      "1    2023\n",
      "2    2023\n",
      "3    2023\n",
      "4    2023\n",
      "5    2023\n",
      "6    2023\n",
      "7    2023\n",
      "8    2023\n",
      "9    2023\n",
      "Name: AppointmentDate, dtype: int32\n",
      "0     1\n",
      "1     2\n",
      "2     3\n",
      "3     4\n",
      "4     5\n",
      "5     6\n",
      "6     7\n",
      "7     8\n",
      "8     9\n",
      "9    10\n",
      "Name: AppointmentDate, dtype: int32\n",
      "0    10\n",
      "1    12\n",
      "2    14\n",
      "3    10\n",
      "4    16\n",
      "5    21\n",
      "6    25\n",
      "7    17\n",
      "8    10\n",
      "9     5\n",
      "Name: AppointmentDate, dtype: int32\n",
      "0    1\n",
      "1    6\n",
      "2    1\n",
      "3    0\n",
      "4    1\n",
      "5    2\n",
      "6    1\n",
      "7    3\n",
      "8    6\n",
      "9    3\n",
      "Name: AppointmentDate, dtype: int32\n",
      "0    1\n",
      "1    6\n",
      "2    1\n",
      "3    0\n",
      "4    1\n",
      "5    2\n",
      "6    1\n",
      "7    3\n",
      "8    6\n",
      "9    3\n",
      "Name: AppointmentDate, dtype: int32\n",
      "0    0\n",
      "1    0\n",
      "2    0\n",
      "3    0\n",
      "4    0\n",
      "5    0\n",
      "6    0\n",
      "7    0\n",
      "8    0\n",
      "9    0\n",
      "Name: AppointmentDate, dtype: int32\n",
      "0    0\n",
      "1    0\n",
      "2    0\n",
      "3    0\n",
      "4    0\n",
      "5    0\n",
      "6    0\n",
      "7    0\n",
      "8    0\n",
      "9    0\n",
      "Name: AppointmentDate, dtype: int32\n",
      "0    0\n",
      "1    0\n",
      "2    0\n",
      "3    0\n",
      "4    0\n",
      "5    0\n",
      "6    0\n",
      "7    0\n",
      "8    0\n",
      "9    0\n",
      "Name: AppointmentDate, dtype: int32\n",
      "0    0\n",
      "1    0\n",
      "2    0\n",
      "3    0\n",
      "4    0\n",
      "5    0\n",
      "6    0\n",
      "7    0\n",
      "8    0\n",
      "9    0\n",
      "Name: AppointmentDate, dtype: int32\n",
      "None\n",
      "<bound method PandasDelegate._add_delegate_accessors.<locals>._create_delegator_method.<locals>.f of <pandas.core.indexes.accessors.DatetimeProperties object at 0x0000027E67119DC0>>\n",
      "<bound method PandasDelegate._add_delegate_accessors.<locals>._create_delegator_method.<locals>.f of <pandas.core.indexes.accessors.DatetimeProperties object at 0x0000027E67119DC0>>\n",
      "0   2023-01-10\n",
      "1   2023-02-12\n",
      "2   2023-03-14\n",
      "3   2023-04-10\n",
      "4   2023-05-16\n",
      "5   2023-06-21\n",
      "6   2023-07-25\n",
      "7   2023-08-17\n",
      "8   2023-09-10\n",
      "9   2023-10-05\n",
      "Name: AppointmentDate, dtype: datetime64[ns]\n"
     ]
    }
   ],
   "source": [
    "print(doctors_df['AppointmentDate'].dt.year)\n",
    "print(doctors_df['AppointmentDate'].dt.month)\n",
    "print(doctors_df['AppointmentDate'].dt.day)\n",
    "print(doctors_df['AppointmentDate'].dt.weekday)\n",
    "print(doctors_df['AppointmentDate'].dt.day_of_week)\n",
    "print(doctors_df['AppointmentDate'].dt.hour)\n",
    "print(doctors_df['AppointmentDate'].dt.minute)\n",
    "print(doctors_df['AppointmentDate'].dt.second)\n",
    "print(doctors_df['AppointmentDate'].dt.microsecond)\n",
    "print(doctors_df['AppointmentDate'].dt.tz)\n",
    "print(doctors_df['AppointmentDate'].dt.tz_localize)\n",
    "print(doctors_df['AppointmentDate'].dt.tz_convert)\n",
    "print(doctors_df['AppointmentDate'].dt.tz_localize(None))"
   ]
  },
  {
   "cell_type": "markdown",
   "metadata": {},
   "source": [
    "\n",
    "## Group by\n",
    "\n",
    "    ** dataframe.groupby(['column1', 'column2'])\n",
    "    **  dataframe.groupby(['column1', 'column2'])[['co1','col2']].aggregate([min,max])\n",
    "     ** dataframe.groupby(['column1', 'column2'])[['co1','col2']].apply(function())\n",
    "\n"
   ]
  },
  {
   "cell_type": "code",
   "execution_count": 57,
   "metadata": {},
   "outputs": [
    {
     "name": "stdout",
     "output_type": "stream",
     "text": [
      "   DoctorID DoctorName PatientName    Specialty AppointmentDate    fee\n",
      "0         1      Alice         Bob   Cardiology      2023-01-10  10000\n",
      "1         2      Brian       Steve   Cardiology      2023-02-12  11000\n",
      "2         3      Chloe         Tim  Dermatology      2023-03-14  12000\n",
      "3         4      David        Rick  Orthopedics      2023-04-10  13000\n",
      "4         5        Eva        John  Orthopedics      2023-05-16  14000\n",
      "5         6      Frank         Tom  Orthopedics      2023-06-21  15000\n",
      "6         7      Grace       Harry  Dermatology      2023-07-25  16000\n",
      "7         8      Henry     Charles  Orthopedics      2023-08-17  17000\n",
      "8         9     Isabel      Oliver  Orthopedics      2023-09-10  18000\n",
      "9        10       Jack        Noah   Cardiology      2023-10-05  19000\n"
     ]
    }
   ],
   "source": [
    "import pandera as pa\n",
    "from pandera.typing import Series\n",
    "from datetime import datetime\n",
    "import pandas as pd\n",
    "\n",
    "# Define the schema using SchemaModel\n",
    "class DoctorSchema(pa.SchemaModel):\n",
    "    DoctorID: Series[int] = pa.Field(ge=1)\n",
    "    DoctorName: Series[str] = pa.Field(nullable=False)\n",
    "    PatientName: Series[str] = pa.Field(nullable=False)\n",
    "    Specialty: Series[str] = pa.Field(nullable=False)\n",
    "    AppointmentDate: Series[datetime] = pa.Field(le=datetime.now())\n",
    "    fee: Series[int] = pa.Field(ge=0)\n",
    "\n",
    "    class Config:\n",
    "        coerce = True  # Automatically coerce types if possible\n",
    "        strict = True  # Ensure all columns are accounted for in the schema\n",
    "\n",
    "# Data for 10 students\n",
    "doctor_data = [\n",
    "    {'DoctorID': 1, 'DoctorName': 'Alice', 'PatientName': 'Bob', 'Specialty': 'Cardiology', 'AppointmentDate': '2023-01-10', 'fee': 10000},\n",
    "    {'DoctorID': 2, 'DoctorName': 'Brian', 'PatientName': 'Steve', 'Specialty': 'Cardiology', 'AppointmentDate': '2023-02-12', 'fee': 11000},\n",
    "    {'DoctorID': 3, 'DoctorName': 'Chloe', 'PatientName': 'Tim', 'Specialty': 'Dermatology', 'AppointmentDate': '2023-03-14', 'fee': 12000},\n",
    "    {'DoctorID': 4, 'DoctorName': 'David', 'PatientName': 'Rick', 'Specialty': 'Orthopedics', 'AppointmentDate': '2023-04-10', 'fee': 13000},\n",
    "    {'DoctorID': 5, 'DoctorName': 'Eva', 'PatientName': 'John', 'Specialty': 'Orthopedics', 'AppointmentDate': '2023-05-16', 'fee': 14000},\n",
    "    {'DoctorID': 6, 'DoctorName': 'Frank', 'PatientName': 'Tom', 'Specialty': 'Orthopedics', 'AppointmentDate': '2023-06-21', 'fee': 15000},\n",
    "    {'DoctorID': 7, 'DoctorName': 'Grace', 'PatientName': 'Harry', 'Specialty': 'Dermatology', 'AppointmentDate': '2023-07-25', 'fee': 16000},\n",
    "    {'DoctorID': 8, 'DoctorName': 'Henry', 'PatientName': 'Charles', 'Specialty': 'Orthopedics', 'AppointmentDate': '2023-08-17', 'fee': 17000},\n",
    "    {'DoctorID': 9, 'DoctorName': 'Isabel', 'PatientName': 'Oliver', 'Specialty': 'Orthopedics', 'AppointmentDate': '2023-09-10', 'fee': 18000},\n",
    "    {'DoctorID': 10, 'DoctorName': 'Jack', 'PatientName': 'Noah', 'Specialty': 'Cardiology', 'AppointmentDate': '2023-10-05', 'fee': 19000},\n",
    "]\n",
    "\n",
    "# Create the DataFrame\n",
    "doctors_df = pd.DataFrame(doctor_data)\n",
    "\n",
    "# Convert 'AppointmentDate' to datetime\n",
    "doctors_df['AppointmentDate'] = pd.to_datetime(doctors_df['AppointmentDate'])\n",
    "\n",
    "# Validate the DataFrame\n",
    "validated_df = DoctorSchema.validate(doctors_df)\n",
    "\n",
    "print(validated_df)"
   ]
  },
  {
   "cell_type": "code",
   "execution_count": 59,
   "metadata": {},
   "outputs": [
    {
     "data": {
      "text/plain": [
       "<pandas.core.groupby.generic.DataFrameGroupBy object at 0x0000027E6711B2F0>"
      ]
     },
     "execution_count": 59,
     "metadata": {},
     "output_type": "execute_result"
    }
   ],
   "source": [
    "doctors_df.groupby(['Specialty'])"
   ]
  },
  {
   "cell_type": "code",
   "execution_count": 60,
   "metadata": {},
   "outputs": [
    {
     "data": {
      "text/plain": [
       "[(('Cardiology',),\n",
       "     DoctorID DoctorName PatientName   Specialty AppointmentDate    fee\n",
       "  0         1      Alice         Bob  Cardiology      2023-01-10  10000\n",
       "  1         2      Brian       Steve  Cardiology      2023-02-12  11000\n",
       "  9        10       Jack        Noah  Cardiology      2023-10-05  19000),\n",
       " (('Dermatology',),\n",
       "     DoctorID DoctorName PatientName    Specialty AppointmentDate    fee\n",
       "  2         3      Chloe         Tim  Dermatology      2023-03-14  12000\n",
       "  6         7      Grace       Harry  Dermatology      2023-07-25  16000),\n",
       " (('Orthopedics',),\n",
       "     DoctorID DoctorName PatientName    Specialty AppointmentDate    fee\n",
       "  3         4      David        Rick  Orthopedics      2023-04-10  13000\n",
       "  4         5        Eva        John  Orthopedics      2023-05-16  14000\n",
       "  5         6      Frank         Tom  Orthopedics      2023-06-21  15000\n",
       "  7         8      Henry     Charles  Orthopedics      2023-08-17  17000\n",
       "  8         9     Isabel      Oliver  Orthopedics      2023-09-10  18000)]"
      ]
     },
     "execution_count": 60,
     "metadata": {},
     "output_type": "execute_result"
    }
   ],
   "source": [
    "list(doctors_df.groupby(['Specialty']))"
   ]
  },
  {
   "cell_type": "code",
   "execution_count": 61,
   "metadata": {},
   "outputs": [
    {
     "data": {
      "text/plain": [
       "('Cardiology',)"
      ]
     },
     "metadata": {},
     "output_type": "display_data"
    },
    {
     "data": {
      "text/html": [
       "<div>\n",
       "<style scoped>\n",
       "    .dataframe tbody tr th:only-of-type {\n",
       "        vertical-align: middle;\n",
       "    }\n",
       "\n",
       "    .dataframe tbody tr th {\n",
       "        vertical-align: top;\n",
       "    }\n",
       "\n",
       "    .dataframe thead th {\n",
       "        text-align: right;\n",
       "    }\n",
       "</style>\n",
       "<table border=\"1\" class=\"dataframe\">\n",
       "  <thead>\n",
       "    <tr style=\"text-align: right;\">\n",
       "      <th></th>\n",
       "      <th>DoctorID</th>\n",
       "      <th>DoctorName</th>\n",
       "      <th>PatientName</th>\n",
       "      <th>Specialty</th>\n",
       "      <th>AppointmentDate</th>\n",
       "      <th>fee</th>\n",
       "    </tr>\n",
       "  </thead>\n",
       "  <tbody>\n",
       "    <tr>\n",
       "      <th>0</th>\n",
       "      <td>1</td>\n",
       "      <td>Alice</td>\n",
       "      <td>Bob</td>\n",
       "      <td>Cardiology</td>\n",
       "      <td>2023-01-10</td>\n",
       "      <td>10000</td>\n",
       "    </tr>\n",
       "    <tr>\n",
       "      <th>1</th>\n",
       "      <td>2</td>\n",
       "      <td>Brian</td>\n",
       "      <td>Steve</td>\n",
       "      <td>Cardiology</td>\n",
       "      <td>2023-02-12</td>\n",
       "      <td>11000</td>\n",
       "    </tr>\n",
       "    <tr>\n",
       "      <th>9</th>\n",
       "      <td>10</td>\n",
       "      <td>Jack</td>\n",
       "      <td>Noah</td>\n",
       "      <td>Cardiology</td>\n",
       "      <td>2023-10-05</td>\n",
       "      <td>19000</td>\n",
       "    </tr>\n",
       "  </tbody>\n",
       "</table>\n",
       "</div>"
      ],
      "text/plain": [
       "   DoctorID DoctorName PatientName   Specialty AppointmentDate    fee\n",
       "0         1      Alice         Bob  Cardiology      2023-01-10  10000\n",
       "1         2      Brian       Steve  Cardiology      2023-02-12  11000\n",
       "9        10       Jack        Noah  Cardiology      2023-10-05  19000"
      ]
     },
     "metadata": {},
     "output_type": "display_data"
    },
    {
     "name": "stdout",
     "output_type": "stream",
     "text": [
      "================================\n"
     ]
    },
    {
     "data": {
      "text/plain": [
       "('Dermatology',)"
      ]
     },
     "metadata": {},
     "output_type": "display_data"
    },
    {
     "data": {
      "text/html": [
       "<div>\n",
       "<style scoped>\n",
       "    .dataframe tbody tr th:only-of-type {\n",
       "        vertical-align: middle;\n",
       "    }\n",
       "\n",
       "    .dataframe tbody tr th {\n",
       "        vertical-align: top;\n",
       "    }\n",
       "\n",
       "    .dataframe thead th {\n",
       "        text-align: right;\n",
       "    }\n",
       "</style>\n",
       "<table border=\"1\" class=\"dataframe\">\n",
       "  <thead>\n",
       "    <tr style=\"text-align: right;\">\n",
       "      <th></th>\n",
       "      <th>DoctorID</th>\n",
       "      <th>DoctorName</th>\n",
       "      <th>PatientName</th>\n",
       "      <th>Specialty</th>\n",
       "      <th>AppointmentDate</th>\n",
       "      <th>fee</th>\n",
       "    </tr>\n",
       "  </thead>\n",
       "  <tbody>\n",
       "    <tr>\n",
       "      <th>2</th>\n",
       "      <td>3</td>\n",
       "      <td>Chloe</td>\n",
       "      <td>Tim</td>\n",
       "      <td>Dermatology</td>\n",
       "      <td>2023-03-14</td>\n",
       "      <td>12000</td>\n",
       "    </tr>\n",
       "    <tr>\n",
       "      <th>6</th>\n",
       "      <td>7</td>\n",
       "      <td>Grace</td>\n",
       "      <td>Harry</td>\n",
       "      <td>Dermatology</td>\n",
       "      <td>2023-07-25</td>\n",
       "      <td>16000</td>\n",
       "    </tr>\n",
       "  </tbody>\n",
       "</table>\n",
       "</div>"
      ],
      "text/plain": [
       "   DoctorID DoctorName PatientName    Specialty AppointmentDate    fee\n",
       "2         3      Chloe         Tim  Dermatology      2023-03-14  12000\n",
       "6         7      Grace       Harry  Dermatology      2023-07-25  16000"
      ]
     },
     "metadata": {},
     "output_type": "display_data"
    },
    {
     "name": "stdout",
     "output_type": "stream",
     "text": [
      "================================\n"
     ]
    },
    {
     "data": {
      "text/plain": [
       "('Orthopedics',)"
      ]
     },
     "metadata": {},
     "output_type": "display_data"
    },
    {
     "data": {
      "text/html": [
       "<div>\n",
       "<style scoped>\n",
       "    .dataframe tbody tr th:only-of-type {\n",
       "        vertical-align: middle;\n",
       "    }\n",
       "\n",
       "    .dataframe tbody tr th {\n",
       "        vertical-align: top;\n",
       "    }\n",
       "\n",
       "    .dataframe thead th {\n",
       "        text-align: right;\n",
       "    }\n",
       "</style>\n",
       "<table border=\"1\" class=\"dataframe\">\n",
       "  <thead>\n",
       "    <tr style=\"text-align: right;\">\n",
       "      <th></th>\n",
       "      <th>DoctorID</th>\n",
       "      <th>DoctorName</th>\n",
       "      <th>PatientName</th>\n",
       "      <th>Specialty</th>\n",
       "      <th>AppointmentDate</th>\n",
       "      <th>fee</th>\n",
       "    </tr>\n",
       "  </thead>\n",
       "  <tbody>\n",
       "    <tr>\n",
       "      <th>3</th>\n",
       "      <td>4</td>\n",
       "      <td>David</td>\n",
       "      <td>Rick</td>\n",
       "      <td>Orthopedics</td>\n",
       "      <td>2023-04-10</td>\n",
       "      <td>13000</td>\n",
       "    </tr>\n",
       "    <tr>\n",
       "      <th>4</th>\n",
       "      <td>5</td>\n",
       "      <td>Eva</td>\n",
       "      <td>John</td>\n",
       "      <td>Orthopedics</td>\n",
       "      <td>2023-05-16</td>\n",
       "      <td>14000</td>\n",
       "    </tr>\n",
       "    <tr>\n",
       "      <th>5</th>\n",
       "      <td>6</td>\n",
       "      <td>Frank</td>\n",
       "      <td>Tom</td>\n",
       "      <td>Orthopedics</td>\n",
       "      <td>2023-06-21</td>\n",
       "      <td>15000</td>\n",
       "    </tr>\n",
       "    <tr>\n",
       "      <th>7</th>\n",
       "      <td>8</td>\n",
       "      <td>Henry</td>\n",
       "      <td>Charles</td>\n",
       "      <td>Orthopedics</td>\n",
       "      <td>2023-08-17</td>\n",
       "      <td>17000</td>\n",
       "    </tr>\n",
       "    <tr>\n",
       "      <th>8</th>\n",
       "      <td>9</td>\n",
       "      <td>Isabel</td>\n",
       "      <td>Oliver</td>\n",
       "      <td>Orthopedics</td>\n",
       "      <td>2023-09-10</td>\n",
       "      <td>18000</td>\n",
       "    </tr>\n",
       "  </tbody>\n",
       "</table>\n",
       "</div>"
      ],
      "text/plain": [
       "   DoctorID DoctorName PatientName    Specialty AppointmentDate    fee\n",
       "3         4      David        Rick  Orthopedics      2023-04-10  13000\n",
       "4         5        Eva        John  Orthopedics      2023-05-16  14000\n",
       "5         6      Frank         Tom  Orthopedics      2023-06-21  15000\n",
       "7         8      Henry     Charles  Orthopedics      2023-08-17  17000\n",
       "8         9     Isabel      Oliver  Orthopedics      2023-09-10  18000"
      ]
     },
     "metadata": {},
     "output_type": "display_data"
    },
    {
     "name": "stdout",
     "output_type": "stream",
     "text": [
      "================================\n"
     ]
    }
   ],
   "source": [
    "\n",
    "\n",
    "for group in list(doctors_df.groupby(['Specialty'])):\n",
    "    display(group[0])\n",
    "    display(group[1])\n",
    "    print('================================')\n",
    "\n"
   ]
  },
  {
   "cell_type": "code",
   "execution_count": 62,
   "metadata": {},
   "outputs": [
    {
     "data": {
      "text/plain": [
       "(('Cardiology',),\n",
       "    DoctorID DoctorName PatientName   Specialty AppointmentDate    fee\n",
       " 0         1      Alice         Bob  Cardiology      2023-01-10  10000\n",
       " 1         2      Brian       Steve  Cardiology      2023-02-12  11000\n",
       " 9        10       Jack        Noah  Cardiology      2023-10-05  19000)"
      ]
     },
     "execution_count": 62,
     "metadata": {},
     "output_type": "execute_result"
    }
   ],
   "source": [
    "list(doctors_df.groupby(['Specialty']))[0]"
   ]
  },
  {
   "cell_type": "code",
   "execution_count": 63,
   "metadata": {},
   "outputs": [
    {
     "data": {
      "text/plain": [
       "('Cardiology',)"
      ]
     },
     "execution_count": 63,
     "metadata": {},
     "output_type": "execute_result"
    }
   ],
   "source": [
    "list(doctors_df.groupby(['Specialty']))[0][0]"
   ]
  },
  {
   "cell_type": "code",
   "execution_count": 64,
   "metadata": {},
   "outputs": [
    {
     "data": {
      "text/html": [
       "<div>\n",
       "<style scoped>\n",
       "    .dataframe tbody tr th:only-of-type {\n",
       "        vertical-align: middle;\n",
       "    }\n",
       "\n",
       "    .dataframe tbody tr th {\n",
       "        vertical-align: top;\n",
       "    }\n",
       "\n",
       "    .dataframe thead th {\n",
       "        text-align: right;\n",
       "    }\n",
       "</style>\n",
       "<table border=\"1\" class=\"dataframe\">\n",
       "  <thead>\n",
       "    <tr style=\"text-align: right;\">\n",
       "      <th></th>\n",
       "      <th>DoctorID</th>\n",
       "      <th>DoctorName</th>\n",
       "      <th>PatientName</th>\n",
       "      <th>Specialty</th>\n",
       "      <th>AppointmentDate</th>\n",
       "      <th>fee</th>\n",
       "    </tr>\n",
       "  </thead>\n",
       "  <tbody>\n",
       "    <tr>\n",
       "      <th>0</th>\n",
       "      <td>1</td>\n",
       "      <td>Alice</td>\n",
       "      <td>Bob</td>\n",
       "      <td>Cardiology</td>\n",
       "      <td>2023-01-10</td>\n",
       "      <td>10000</td>\n",
       "    </tr>\n",
       "    <tr>\n",
       "      <th>1</th>\n",
       "      <td>2</td>\n",
       "      <td>Brian</td>\n",
       "      <td>Steve</td>\n",
       "      <td>Cardiology</td>\n",
       "      <td>2023-02-12</td>\n",
       "      <td>11000</td>\n",
       "    </tr>\n",
       "    <tr>\n",
       "      <th>9</th>\n",
       "      <td>10</td>\n",
       "      <td>Jack</td>\n",
       "      <td>Noah</td>\n",
       "      <td>Cardiology</td>\n",
       "      <td>2023-10-05</td>\n",
       "      <td>19000</td>\n",
       "    </tr>\n",
       "  </tbody>\n",
       "</table>\n",
       "</div>"
      ],
      "text/plain": [
       "   DoctorID DoctorName PatientName   Specialty AppointmentDate    fee\n",
       "0         1      Alice         Bob  Cardiology      2023-01-10  10000\n",
       "1         2      Brian       Steve  Cardiology      2023-02-12  11000\n",
       "9        10       Jack        Noah  Cardiology      2023-10-05  19000"
      ]
     },
     "execution_count": 64,
     "metadata": {},
     "output_type": "execute_result"
    }
   ],
   "source": [
    "list(doctors_df.groupby(['Specialty']))[0][1]"
   ]
  },
  {
   "cell_type": "code",
   "execution_count": 67,
   "metadata": {},
   "outputs": [
    {
     "data": {
      "text/plain": [
       "[(('April',),\n",
       "     DoctorID DoctorName PatientName    Specialty AppointmentDate    fee\n",
       "  3         4      David        Rick  Orthopedics      2023-04-10  13000),\n",
       " (('August',),\n",
       "     DoctorID DoctorName PatientName    Specialty AppointmentDate    fee\n",
       "  7         8      Henry     Charles  Orthopedics      2023-08-17  17000),\n",
       " (('February',),\n",
       "     DoctorID DoctorName PatientName   Specialty AppointmentDate    fee\n",
       "  1         2      Brian       Steve  Cardiology      2023-02-12  11000),\n",
       " (('January',),\n",
       "     DoctorID DoctorName PatientName   Specialty AppointmentDate    fee\n",
       "  0         1      Alice         Bob  Cardiology      2023-01-10  10000),\n",
       " (('July',),\n",
       "     DoctorID DoctorName PatientName    Specialty AppointmentDate    fee\n",
       "  6         7      Grace       Harry  Dermatology      2023-07-25  16000),\n",
       " (('June',),\n",
       "     DoctorID DoctorName PatientName    Specialty AppointmentDate    fee\n",
       "  5         6      Frank         Tom  Orthopedics      2023-06-21  15000),\n",
       " (('March',),\n",
       "     DoctorID DoctorName PatientName    Specialty AppointmentDate    fee\n",
       "  2         3      Chloe         Tim  Dermatology      2023-03-14  12000),\n",
       " (('May',),\n",
       "     DoctorID DoctorName PatientName    Specialty AppointmentDate    fee\n",
       "  4         5        Eva        John  Orthopedics      2023-05-16  14000),\n",
       " (('October',),\n",
       "     DoctorID DoctorName PatientName   Specialty AppointmentDate    fee\n",
       "  9        10       Jack        Noah  Cardiology      2023-10-05  19000),\n",
       " (('September',),\n",
       "     DoctorID DoctorName PatientName    Specialty AppointmentDate    fee\n",
       "  8         9     Isabel      Oliver  Orthopedics      2023-09-10  18000)]"
      ]
     },
     "execution_count": 67,
     "metadata": {},
     "output_type": "execute_result"
    }
   ],
   "source": [
    "list(doctors_df.groupby([doctors_df['AppointmentDate'].dt.strftime(\"%B\")]))"
   ]
  },
  {
   "cell_type": "code",
   "execution_count": 69,
   "metadata": {},
   "outputs": [
    {
     "data": {
      "text/plain": [
       "[(('April', 'Orthopedics'),\n",
       "     DoctorID DoctorName PatientName    Specialty AppointmentDate    fee\n",
       "  3         4      David        Rick  Orthopedics      2023-04-10  13000),\n",
       " (('August', 'Orthopedics'),\n",
       "     DoctorID DoctorName PatientName    Specialty AppointmentDate    fee\n",
       "  7         8      Henry     Charles  Orthopedics      2023-08-17  17000),\n",
       " (('February', 'Cardiology'),\n",
       "     DoctorID DoctorName PatientName   Specialty AppointmentDate    fee\n",
       "  1         2      Brian       Steve  Cardiology      2023-02-12  11000),\n",
       " (('January', 'Cardiology'),\n",
       "     DoctorID DoctorName PatientName   Specialty AppointmentDate    fee\n",
       "  0         1      Alice         Bob  Cardiology      2023-01-10  10000),\n",
       " (('July', 'Dermatology'),\n",
       "     DoctorID DoctorName PatientName    Specialty AppointmentDate    fee\n",
       "  6         7      Grace       Harry  Dermatology      2023-07-25  16000),\n",
       " (('June', 'Orthopedics'),\n",
       "     DoctorID DoctorName PatientName    Specialty AppointmentDate    fee\n",
       "  5         6      Frank         Tom  Orthopedics      2023-06-21  15000),\n",
       " (('March', 'Dermatology'),\n",
       "     DoctorID DoctorName PatientName    Specialty AppointmentDate    fee\n",
       "  2         3      Chloe         Tim  Dermatology      2023-03-14  12000),\n",
       " (('May', 'Orthopedics'),\n",
       "     DoctorID DoctorName PatientName    Specialty AppointmentDate    fee\n",
       "  4         5        Eva        John  Orthopedics      2023-05-16  14000),\n",
       " (('October', 'Cardiology'),\n",
       "     DoctorID DoctorName PatientName   Specialty AppointmentDate    fee\n",
       "  9        10       Jack        Noah  Cardiology      2023-10-05  19000),\n",
       " (('September', 'Orthopedics'),\n",
       "     DoctorID DoctorName PatientName    Specialty AppointmentDate    fee\n",
       "  8         9     Isabel      Oliver  Orthopedics      2023-09-10  18000)]"
      ]
     },
     "execution_count": 69,
     "metadata": {},
     "output_type": "execute_result"
    }
   ],
   "source": [
    "list(doctors_df.groupby([doctors_df['AppointmentDate'].dt.strftime(\"%B\"), doctors_df['Specialty']]))\n"
   ]
  },
  {
   "cell_type": "code",
   "execution_count": 70,
   "metadata": {},
   "outputs": [
    {
     "data": {
      "text/plain": [
       "('April',)"
      ]
     },
     "metadata": {},
     "output_type": "display_data"
    },
    {
     "data": {
      "text/html": [
       "<div>\n",
       "<style scoped>\n",
       "    .dataframe tbody tr th:only-of-type {\n",
       "        vertical-align: middle;\n",
       "    }\n",
       "\n",
       "    .dataframe tbody tr th {\n",
       "        vertical-align: top;\n",
       "    }\n",
       "\n",
       "    .dataframe thead th {\n",
       "        text-align: right;\n",
       "    }\n",
       "</style>\n",
       "<table border=\"1\" class=\"dataframe\">\n",
       "  <thead>\n",
       "    <tr style=\"text-align: right;\">\n",
       "      <th></th>\n",
       "      <th>DoctorID</th>\n",
       "      <th>DoctorName</th>\n",
       "      <th>PatientName</th>\n",
       "      <th>Specialty</th>\n",
       "      <th>AppointmentDate</th>\n",
       "      <th>fee</th>\n",
       "    </tr>\n",
       "  </thead>\n",
       "  <tbody>\n",
       "    <tr>\n",
       "      <th>3</th>\n",
       "      <td>4</td>\n",
       "      <td>David</td>\n",
       "      <td>Rick</td>\n",
       "      <td>Orthopedics</td>\n",
       "      <td>2023-04-10</td>\n",
       "      <td>13000</td>\n",
       "    </tr>\n",
       "  </tbody>\n",
       "</table>\n",
       "</div>"
      ],
      "text/plain": [
       "   DoctorID DoctorName PatientName    Specialty AppointmentDate    fee\n",
       "3         4      David        Rick  Orthopedics      2023-04-10  13000"
      ]
     },
     "metadata": {},
     "output_type": "display_data"
    },
    {
     "name": "stdout",
     "output_type": "stream",
     "text": [
      "================================\n"
     ]
    },
    {
     "data": {
      "text/plain": [
       "('August',)"
      ]
     },
     "metadata": {},
     "output_type": "display_data"
    },
    {
     "data": {
      "text/html": [
       "<div>\n",
       "<style scoped>\n",
       "    .dataframe tbody tr th:only-of-type {\n",
       "        vertical-align: middle;\n",
       "    }\n",
       "\n",
       "    .dataframe tbody tr th {\n",
       "        vertical-align: top;\n",
       "    }\n",
       "\n",
       "    .dataframe thead th {\n",
       "        text-align: right;\n",
       "    }\n",
       "</style>\n",
       "<table border=\"1\" class=\"dataframe\">\n",
       "  <thead>\n",
       "    <tr style=\"text-align: right;\">\n",
       "      <th></th>\n",
       "      <th>DoctorID</th>\n",
       "      <th>DoctorName</th>\n",
       "      <th>PatientName</th>\n",
       "      <th>Specialty</th>\n",
       "      <th>AppointmentDate</th>\n",
       "      <th>fee</th>\n",
       "    </tr>\n",
       "  </thead>\n",
       "  <tbody>\n",
       "    <tr>\n",
       "      <th>7</th>\n",
       "      <td>8</td>\n",
       "      <td>Henry</td>\n",
       "      <td>Charles</td>\n",
       "      <td>Orthopedics</td>\n",
       "      <td>2023-08-17</td>\n",
       "      <td>17000</td>\n",
       "    </tr>\n",
       "  </tbody>\n",
       "</table>\n",
       "</div>"
      ],
      "text/plain": [
       "   DoctorID DoctorName PatientName    Specialty AppointmentDate    fee\n",
       "7         8      Henry     Charles  Orthopedics      2023-08-17  17000"
      ]
     },
     "metadata": {},
     "output_type": "display_data"
    },
    {
     "name": "stdout",
     "output_type": "stream",
     "text": [
      "================================\n"
     ]
    },
    {
     "data": {
      "text/plain": [
       "('February',)"
      ]
     },
     "metadata": {},
     "output_type": "display_data"
    },
    {
     "data": {
      "text/html": [
       "<div>\n",
       "<style scoped>\n",
       "    .dataframe tbody tr th:only-of-type {\n",
       "        vertical-align: middle;\n",
       "    }\n",
       "\n",
       "    .dataframe tbody tr th {\n",
       "        vertical-align: top;\n",
       "    }\n",
       "\n",
       "    .dataframe thead th {\n",
       "        text-align: right;\n",
       "    }\n",
       "</style>\n",
       "<table border=\"1\" class=\"dataframe\">\n",
       "  <thead>\n",
       "    <tr style=\"text-align: right;\">\n",
       "      <th></th>\n",
       "      <th>DoctorID</th>\n",
       "      <th>DoctorName</th>\n",
       "      <th>PatientName</th>\n",
       "      <th>Specialty</th>\n",
       "      <th>AppointmentDate</th>\n",
       "      <th>fee</th>\n",
       "    </tr>\n",
       "  </thead>\n",
       "  <tbody>\n",
       "    <tr>\n",
       "      <th>1</th>\n",
       "      <td>2</td>\n",
       "      <td>Brian</td>\n",
       "      <td>Steve</td>\n",
       "      <td>Cardiology</td>\n",
       "      <td>2023-02-12</td>\n",
       "      <td>11000</td>\n",
       "    </tr>\n",
       "  </tbody>\n",
       "</table>\n",
       "</div>"
      ],
      "text/plain": [
       "   DoctorID DoctorName PatientName   Specialty AppointmentDate    fee\n",
       "1         2      Brian       Steve  Cardiology      2023-02-12  11000"
      ]
     },
     "metadata": {},
     "output_type": "display_data"
    },
    {
     "name": "stdout",
     "output_type": "stream",
     "text": [
      "================================\n"
     ]
    },
    {
     "data": {
      "text/plain": [
       "('January',)"
      ]
     },
     "metadata": {},
     "output_type": "display_data"
    },
    {
     "data": {
      "text/html": [
       "<div>\n",
       "<style scoped>\n",
       "    .dataframe tbody tr th:only-of-type {\n",
       "        vertical-align: middle;\n",
       "    }\n",
       "\n",
       "    .dataframe tbody tr th {\n",
       "        vertical-align: top;\n",
       "    }\n",
       "\n",
       "    .dataframe thead th {\n",
       "        text-align: right;\n",
       "    }\n",
       "</style>\n",
       "<table border=\"1\" class=\"dataframe\">\n",
       "  <thead>\n",
       "    <tr style=\"text-align: right;\">\n",
       "      <th></th>\n",
       "      <th>DoctorID</th>\n",
       "      <th>DoctorName</th>\n",
       "      <th>PatientName</th>\n",
       "      <th>Specialty</th>\n",
       "      <th>AppointmentDate</th>\n",
       "      <th>fee</th>\n",
       "    </tr>\n",
       "  </thead>\n",
       "  <tbody>\n",
       "    <tr>\n",
       "      <th>0</th>\n",
       "      <td>1</td>\n",
       "      <td>Alice</td>\n",
       "      <td>Bob</td>\n",
       "      <td>Cardiology</td>\n",
       "      <td>2023-01-10</td>\n",
       "      <td>10000</td>\n",
       "    </tr>\n",
       "  </tbody>\n",
       "</table>\n",
       "</div>"
      ],
      "text/plain": [
       "   DoctorID DoctorName PatientName   Specialty AppointmentDate    fee\n",
       "0         1      Alice         Bob  Cardiology      2023-01-10  10000"
      ]
     },
     "metadata": {},
     "output_type": "display_data"
    },
    {
     "name": "stdout",
     "output_type": "stream",
     "text": [
      "================================\n"
     ]
    },
    {
     "data": {
      "text/plain": [
       "('July',)"
      ]
     },
     "metadata": {},
     "output_type": "display_data"
    },
    {
     "data": {
      "text/html": [
       "<div>\n",
       "<style scoped>\n",
       "    .dataframe tbody tr th:only-of-type {\n",
       "        vertical-align: middle;\n",
       "    }\n",
       "\n",
       "    .dataframe tbody tr th {\n",
       "        vertical-align: top;\n",
       "    }\n",
       "\n",
       "    .dataframe thead th {\n",
       "        text-align: right;\n",
       "    }\n",
       "</style>\n",
       "<table border=\"1\" class=\"dataframe\">\n",
       "  <thead>\n",
       "    <tr style=\"text-align: right;\">\n",
       "      <th></th>\n",
       "      <th>DoctorID</th>\n",
       "      <th>DoctorName</th>\n",
       "      <th>PatientName</th>\n",
       "      <th>Specialty</th>\n",
       "      <th>AppointmentDate</th>\n",
       "      <th>fee</th>\n",
       "    </tr>\n",
       "  </thead>\n",
       "  <tbody>\n",
       "    <tr>\n",
       "      <th>6</th>\n",
       "      <td>7</td>\n",
       "      <td>Grace</td>\n",
       "      <td>Harry</td>\n",
       "      <td>Dermatology</td>\n",
       "      <td>2023-07-25</td>\n",
       "      <td>16000</td>\n",
       "    </tr>\n",
       "  </tbody>\n",
       "</table>\n",
       "</div>"
      ],
      "text/plain": [
       "   DoctorID DoctorName PatientName    Specialty AppointmentDate    fee\n",
       "6         7      Grace       Harry  Dermatology      2023-07-25  16000"
      ]
     },
     "metadata": {},
     "output_type": "display_data"
    },
    {
     "name": "stdout",
     "output_type": "stream",
     "text": [
      "================================\n"
     ]
    },
    {
     "data": {
      "text/plain": [
       "('June',)"
      ]
     },
     "metadata": {},
     "output_type": "display_data"
    },
    {
     "data": {
      "text/html": [
       "<div>\n",
       "<style scoped>\n",
       "    .dataframe tbody tr th:only-of-type {\n",
       "        vertical-align: middle;\n",
       "    }\n",
       "\n",
       "    .dataframe tbody tr th {\n",
       "        vertical-align: top;\n",
       "    }\n",
       "\n",
       "    .dataframe thead th {\n",
       "        text-align: right;\n",
       "    }\n",
       "</style>\n",
       "<table border=\"1\" class=\"dataframe\">\n",
       "  <thead>\n",
       "    <tr style=\"text-align: right;\">\n",
       "      <th></th>\n",
       "      <th>DoctorID</th>\n",
       "      <th>DoctorName</th>\n",
       "      <th>PatientName</th>\n",
       "      <th>Specialty</th>\n",
       "      <th>AppointmentDate</th>\n",
       "      <th>fee</th>\n",
       "    </tr>\n",
       "  </thead>\n",
       "  <tbody>\n",
       "    <tr>\n",
       "      <th>5</th>\n",
       "      <td>6</td>\n",
       "      <td>Frank</td>\n",
       "      <td>Tom</td>\n",
       "      <td>Orthopedics</td>\n",
       "      <td>2023-06-21</td>\n",
       "      <td>15000</td>\n",
       "    </tr>\n",
       "  </tbody>\n",
       "</table>\n",
       "</div>"
      ],
      "text/plain": [
       "   DoctorID DoctorName PatientName    Specialty AppointmentDate    fee\n",
       "5         6      Frank         Tom  Orthopedics      2023-06-21  15000"
      ]
     },
     "metadata": {},
     "output_type": "display_data"
    },
    {
     "name": "stdout",
     "output_type": "stream",
     "text": [
      "================================\n"
     ]
    },
    {
     "data": {
      "text/plain": [
       "('March',)"
      ]
     },
     "metadata": {},
     "output_type": "display_data"
    },
    {
     "data": {
      "text/html": [
       "<div>\n",
       "<style scoped>\n",
       "    .dataframe tbody tr th:only-of-type {\n",
       "        vertical-align: middle;\n",
       "    }\n",
       "\n",
       "    .dataframe tbody tr th {\n",
       "        vertical-align: top;\n",
       "    }\n",
       "\n",
       "    .dataframe thead th {\n",
       "        text-align: right;\n",
       "    }\n",
       "</style>\n",
       "<table border=\"1\" class=\"dataframe\">\n",
       "  <thead>\n",
       "    <tr style=\"text-align: right;\">\n",
       "      <th></th>\n",
       "      <th>DoctorID</th>\n",
       "      <th>DoctorName</th>\n",
       "      <th>PatientName</th>\n",
       "      <th>Specialty</th>\n",
       "      <th>AppointmentDate</th>\n",
       "      <th>fee</th>\n",
       "    </tr>\n",
       "  </thead>\n",
       "  <tbody>\n",
       "    <tr>\n",
       "      <th>2</th>\n",
       "      <td>3</td>\n",
       "      <td>Chloe</td>\n",
       "      <td>Tim</td>\n",
       "      <td>Dermatology</td>\n",
       "      <td>2023-03-14</td>\n",
       "      <td>12000</td>\n",
       "    </tr>\n",
       "  </tbody>\n",
       "</table>\n",
       "</div>"
      ],
      "text/plain": [
       "   DoctorID DoctorName PatientName    Specialty AppointmentDate    fee\n",
       "2         3      Chloe         Tim  Dermatology      2023-03-14  12000"
      ]
     },
     "metadata": {},
     "output_type": "display_data"
    },
    {
     "name": "stdout",
     "output_type": "stream",
     "text": [
      "================================\n"
     ]
    },
    {
     "data": {
      "text/plain": [
       "('May',)"
      ]
     },
     "metadata": {},
     "output_type": "display_data"
    },
    {
     "data": {
      "text/html": [
       "<div>\n",
       "<style scoped>\n",
       "    .dataframe tbody tr th:only-of-type {\n",
       "        vertical-align: middle;\n",
       "    }\n",
       "\n",
       "    .dataframe tbody tr th {\n",
       "        vertical-align: top;\n",
       "    }\n",
       "\n",
       "    .dataframe thead th {\n",
       "        text-align: right;\n",
       "    }\n",
       "</style>\n",
       "<table border=\"1\" class=\"dataframe\">\n",
       "  <thead>\n",
       "    <tr style=\"text-align: right;\">\n",
       "      <th></th>\n",
       "      <th>DoctorID</th>\n",
       "      <th>DoctorName</th>\n",
       "      <th>PatientName</th>\n",
       "      <th>Specialty</th>\n",
       "      <th>AppointmentDate</th>\n",
       "      <th>fee</th>\n",
       "    </tr>\n",
       "  </thead>\n",
       "  <tbody>\n",
       "    <tr>\n",
       "      <th>4</th>\n",
       "      <td>5</td>\n",
       "      <td>Eva</td>\n",
       "      <td>John</td>\n",
       "      <td>Orthopedics</td>\n",
       "      <td>2023-05-16</td>\n",
       "      <td>14000</td>\n",
       "    </tr>\n",
       "  </tbody>\n",
       "</table>\n",
       "</div>"
      ],
      "text/plain": [
       "   DoctorID DoctorName PatientName    Specialty AppointmentDate    fee\n",
       "4         5        Eva        John  Orthopedics      2023-05-16  14000"
      ]
     },
     "metadata": {},
     "output_type": "display_data"
    },
    {
     "name": "stdout",
     "output_type": "stream",
     "text": [
      "================================\n"
     ]
    },
    {
     "data": {
      "text/plain": [
       "('October',)"
      ]
     },
     "metadata": {},
     "output_type": "display_data"
    },
    {
     "data": {
      "text/html": [
       "<div>\n",
       "<style scoped>\n",
       "    .dataframe tbody tr th:only-of-type {\n",
       "        vertical-align: middle;\n",
       "    }\n",
       "\n",
       "    .dataframe tbody tr th {\n",
       "        vertical-align: top;\n",
       "    }\n",
       "\n",
       "    .dataframe thead th {\n",
       "        text-align: right;\n",
       "    }\n",
       "</style>\n",
       "<table border=\"1\" class=\"dataframe\">\n",
       "  <thead>\n",
       "    <tr style=\"text-align: right;\">\n",
       "      <th></th>\n",
       "      <th>DoctorID</th>\n",
       "      <th>DoctorName</th>\n",
       "      <th>PatientName</th>\n",
       "      <th>Specialty</th>\n",
       "      <th>AppointmentDate</th>\n",
       "      <th>fee</th>\n",
       "    </tr>\n",
       "  </thead>\n",
       "  <tbody>\n",
       "    <tr>\n",
       "      <th>9</th>\n",
       "      <td>10</td>\n",
       "      <td>Jack</td>\n",
       "      <td>Noah</td>\n",
       "      <td>Cardiology</td>\n",
       "      <td>2023-10-05</td>\n",
       "      <td>19000</td>\n",
       "    </tr>\n",
       "  </tbody>\n",
       "</table>\n",
       "</div>"
      ],
      "text/plain": [
       "   DoctorID DoctorName PatientName   Specialty AppointmentDate    fee\n",
       "9        10       Jack        Noah  Cardiology      2023-10-05  19000"
      ]
     },
     "metadata": {},
     "output_type": "display_data"
    },
    {
     "name": "stdout",
     "output_type": "stream",
     "text": [
      "================================\n"
     ]
    },
    {
     "data": {
      "text/plain": [
       "('September',)"
      ]
     },
     "metadata": {},
     "output_type": "display_data"
    },
    {
     "data": {
      "text/html": [
       "<div>\n",
       "<style scoped>\n",
       "    .dataframe tbody tr th:only-of-type {\n",
       "        vertical-align: middle;\n",
       "    }\n",
       "\n",
       "    .dataframe tbody tr th {\n",
       "        vertical-align: top;\n",
       "    }\n",
       "\n",
       "    .dataframe thead th {\n",
       "        text-align: right;\n",
       "    }\n",
       "</style>\n",
       "<table border=\"1\" class=\"dataframe\">\n",
       "  <thead>\n",
       "    <tr style=\"text-align: right;\">\n",
       "      <th></th>\n",
       "      <th>DoctorID</th>\n",
       "      <th>DoctorName</th>\n",
       "      <th>PatientName</th>\n",
       "      <th>Specialty</th>\n",
       "      <th>AppointmentDate</th>\n",
       "      <th>fee</th>\n",
       "    </tr>\n",
       "  </thead>\n",
       "  <tbody>\n",
       "    <tr>\n",
       "      <th>8</th>\n",
       "      <td>9</td>\n",
       "      <td>Isabel</td>\n",
       "      <td>Oliver</td>\n",
       "      <td>Orthopedics</td>\n",
       "      <td>2023-09-10</td>\n",
       "      <td>18000</td>\n",
       "    </tr>\n",
       "  </tbody>\n",
       "</table>\n",
       "</div>"
      ],
      "text/plain": [
       "   DoctorID DoctorName PatientName    Specialty AppointmentDate    fee\n",
       "8         9     Isabel      Oliver  Orthopedics      2023-09-10  18000"
      ]
     },
     "metadata": {},
     "output_type": "display_data"
    },
    {
     "name": "stdout",
     "output_type": "stream",
     "text": [
      "================================\n"
     ]
    }
   ],
   "source": [
    "\n",
    "\n",
    "for group in list(doctors_df.groupby([doctors_df['AppointmentDate'].dt.strftime(\"%B\")])):\n",
    "    display(group[0])\n",
    "    display(group[1])\n",
    "    print('================================')\n",
    "\n"
   ]
  },
  {
   "cell_type": "code",
   "execution_count": 71,
   "metadata": {},
   "outputs": [
    {
     "data": {
      "text/plain": [
       "('April', 'Orthopedics')"
      ]
     },
     "metadata": {},
     "output_type": "display_data"
    },
    {
     "data": {
      "text/html": [
       "<div>\n",
       "<style scoped>\n",
       "    .dataframe tbody tr th:only-of-type {\n",
       "        vertical-align: middle;\n",
       "    }\n",
       "\n",
       "    .dataframe tbody tr th {\n",
       "        vertical-align: top;\n",
       "    }\n",
       "\n",
       "    .dataframe thead th {\n",
       "        text-align: right;\n",
       "    }\n",
       "</style>\n",
       "<table border=\"1\" class=\"dataframe\">\n",
       "  <thead>\n",
       "    <tr style=\"text-align: right;\">\n",
       "      <th></th>\n",
       "      <th>DoctorID</th>\n",
       "      <th>DoctorName</th>\n",
       "      <th>PatientName</th>\n",
       "      <th>Specialty</th>\n",
       "      <th>AppointmentDate</th>\n",
       "      <th>fee</th>\n",
       "    </tr>\n",
       "  </thead>\n",
       "  <tbody>\n",
       "    <tr>\n",
       "      <th>3</th>\n",
       "      <td>4</td>\n",
       "      <td>David</td>\n",
       "      <td>Rick</td>\n",
       "      <td>Orthopedics</td>\n",
       "      <td>2023-04-10</td>\n",
       "      <td>13000</td>\n",
       "    </tr>\n",
       "  </tbody>\n",
       "</table>\n",
       "</div>"
      ],
      "text/plain": [
       "   DoctorID DoctorName PatientName    Specialty AppointmentDate    fee\n",
       "3         4      David        Rick  Orthopedics      2023-04-10  13000"
      ]
     },
     "metadata": {},
     "output_type": "display_data"
    },
    {
     "name": "stdout",
     "output_type": "stream",
     "text": [
      "================================\n"
     ]
    },
    {
     "data": {
      "text/plain": [
       "('August', 'Orthopedics')"
      ]
     },
     "metadata": {},
     "output_type": "display_data"
    },
    {
     "data": {
      "text/html": [
       "<div>\n",
       "<style scoped>\n",
       "    .dataframe tbody tr th:only-of-type {\n",
       "        vertical-align: middle;\n",
       "    }\n",
       "\n",
       "    .dataframe tbody tr th {\n",
       "        vertical-align: top;\n",
       "    }\n",
       "\n",
       "    .dataframe thead th {\n",
       "        text-align: right;\n",
       "    }\n",
       "</style>\n",
       "<table border=\"1\" class=\"dataframe\">\n",
       "  <thead>\n",
       "    <tr style=\"text-align: right;\">\n",
       "      <th></th>\n",
       "      <th>DoctorID</th>\n",
       "      <th>DoctorName</th>\n",
       "      <th>PatientName</th>\n",
       "      <th>Specialty</th>\n",
       "      <th>AppointmentDate</th>\n",
       "      <th>fee</th>\n",
       "    </tr>\n",
       "  </thead>\n",
       "  <tbody>\n",
       "    <tr>\n",
       "      <th>7</th>\n",
       "      <td>8</td>\n",
       "      <td>Henry</td>\n",
       "      <td>Charles</td>\n",
       "      <td>Orthopedics</td>\n",
       "      <td>2023-08-17</td>\n",
       "      <td>17000</td>\n",
       "    </tr>\n",
       "  </tbody>\n",
       "</table>\n",
       "</div>"
      ],
      "text/plain": [
       "   DoctorID DoctorName PatientName    Specialty AppointmentDate    fee\n",
       "7         8      Henry     Charles  Orthopedics      2023-08-17  17000"
      ]
     },
     "metadata": {},
     "output_type": "display_data"
    },
    {
     "name": "stdout",
     "output_type": "stream",
     "text": [
      "================================\n"
     ]
    },
    {
     "data": {
      "text/plain": [
       "('February', 'Cardiology')"
      ]
     },
     "metadata": {},
     "output_type": "display_data"
    },
    {
     "data": {
      "text/html": [
       "<div>\n",
       "<style scoped>\n",
       "    .dataframe tbody tr th:only-of-type {\n",
       "        vertical-align: middle;\n",
       "    }\n",
       "\n",
       "    .dataframe tbody tr th {\n",
       "        vertical-align: top;\n",
       "    }\n",
       "\n",
       "    .dataframe thead th {\n",
       "        text-align: right;\n",
       "    }\n",
       "</style>\n",
       "<table border=\"1\" class=\"dataframe\">\n",
       "  <thead>\n",
       "    <tr style=\"text-align: right;\">\n",
       "      <th></th>\n",
       "      <th>DoctorID</th>\n",
       "      <th>DoctorName</th>\n",
       "      <th>PatientName</th>\n",
       "      <th>Specialty</th>\n",
       "      <th>AppointmentDate</th>\n",
       "      <th>fee</th>\n",
       "    </tr>\n",
       "  </thead>\n",
       "  <tbody>\n",
       "    <tr>\n",
       "      <th>1</th>\n",
       "      <td>2</td>\n",
       "      <td>Brian</td>\n",
       "      <td>Steve</td>\n",
       "      <td>Cardiology</td>\n",
       "      <td>2023-02-12</td>\n",
       "      <td>11000</td>\n",
       "    </tr>\n",
       "  </tbody>\n",
       "</table>\n",
       "</div>"
      ],
      "text/plain": [
       "   DoctorID DoctorName PatientName   Specialty AppointmentDate    fee\n",
       "1         2      Brian       Steve  Cardiology      2023-02-12  11000"
      ]
     },
     "metadata": {},
     "output_type": "display_data"
    },
    {
     "name": "stdout",
     "output_type": "stream",
     "text": [
      "================================\n"
     ]
    },
    {
     "data": {
      "text/plain": [
       "('January', 'Cardiology')"
      ]
     },
     "metadata": {},
     "output_type": "display_data"
    },
    {
     "data": {
      "text/html": [
       "<div>\n",
       "<style scoped>\n",
       "    .dataframe tbody tr th:only-of-type {\n",
       "        vertical-align: middle;\n",
       "    }\n",
       "\n",
       "    .dataframe tbody tr th {\n",
       "        vertical-align: top;\n",
       "    }\n",
       "\n",
       "    .dataframe thead th {\n",
       "        text-align: right;\n",
       "    }\n",
       "</style>\n",
       "<table border=\"1\" class=\"dataframe\">\n",
       "  <thead>\n",
       "    <tr style=\"text-align: right;\">\n",
       "      <th></th>\n",
       "      <th>DoctorID</th>\n",
       "      <th>DoctorName</th>\n",
       "      <th>PatientName</th>\n",
       "      <th>Specialty</th>\n",
       "      <th>AppointmentDate</th>\n",
       "      <th>fee</th>\n",
       "    </tr>\n",
       "  </thead>\n",
       "  <tbody>\n",
       "    <tr>\n",
       "      <th>0</th>\n",
       "      <td>1</td>\n",
       "      <td>Alice</td>\n",
       "      <td>Bob</td>\n",
       "      <td>Cardiology</td>\n",
       "      <td>2023-01-10</td>\n",
       "      <td>10000</td>\n",
       "    </tr>\n",
       "  </tbody>\n",
       "</table>\n",
       "</div>"
      ],
      "text/plain": [
       "   DoctorID DoctorName PatientName   Specialty AppointmentDate    fee\n",
       "0         1      Alice         Bob  Cardiology      2023-01-10  10000"
      ]
     },
     "metadata": {},
     "output_type": "display_data"
    },
    {
     "name": "stdout",
     "output_type": "stream",
     "text": [
      "================================\n"
     ]
    },
    {
     "data": {
      "text/plain": [
       "('July', 'Dermatology')"
      ]
     },
     "metadata": {},
     "output_type": "display_data"
    },
    {
     "data": {
      "text/html": [
       "<div>\n",
       "<style scoped>\n",
       "    .dataframe tbody tr th:only-of-type {\n",
       "        vertical-align: middle;\n",
       "    }\n",
       "\n",
       "    .dataframe tbody tr th {\n",
       "        vertical-align: top;\n",
       "    }\n",
       "\n",
       "    .dataframe thead th {\n",
       "        text-align: right;\n",
       "    }\n",
       "</style>\n",
       "<table border=\"1\" class=\"dataframe\">\n",
       "  <thead>\n",
       "    <tr style=\"text-align: right;\">\n",
       "      <th></th>\n",
       "      <th>DoctorID</th>\n",
       "      <th>DoctorName</th>\n",
       "      <th>PatientName</th>\n",
       "      <th>Specialty</th>\n",
       "      <th>AppointmentDate</th>\n",
       "      <th>fee</th>\n",
       "    </tr>\n",
       "  </thead>\n",
       "  <tbody>\n",
       "    <tr>\n",
       "      <th>6</th>\n",
       "      <td>7</td>\n",
       "      <td>Grace</td>\n",
       "      <td>Harry</td>\n",
       "      <td>Dermatology</td>\n",
       "      <td>2023-07-25</td>\n",
       "      <td>16000</td>\n",
       "    </tr>\n",
       "  </tbody>\n",
       "</table>\n",
       "</div>"
      ],
      "text/plain": [
       "   DoctorID DoctorName PatientName    Specialty AppointmentDate    fee\n",
       "6         7      Grace       Harry  Dermatology      2023-07-25  16000"
      ]
     },
     "metadata": {},
     "output_type": "display_data"
    },
    {
     "name": "stdout",
     "output_type": "stream",
     "text": [
      "================================\n"
     ]
    },
    {
     "data": {
      "text/plain": [
       "('June', 'Orthopedics')"
      ]
     },
     "metadata": {},
     "output_type": "display_data"
    },
    {
     "data": {
      "text/html": [
       "<div>\n",
       "<style scoped>\n",
       "    .dataframe tbody tr th:only-of-type {\n",
       "        vertical-align: middle;\n",
       "    }\n",
       "\n",
       "    .dataframe tbody tr th {\n",
       "        vertical-align: top;\n",
       "    }\n",
       "\n",
       "    .dataframe thead th {\n",
       "        text-align: right;\n",
       "    }\n",
       "</style>\n",
       "<table border=\"1\" class=\"dataframe\">\n",
       "  <thead>\n",
       "    <tr style=\"text-align: right;\">\n",
       "      <th></th>\n",
       "      <th>DoctorID</th>\n",
       "      <th>DoctorName</th>\n",
       "      <th>PatientName</th>\n",
       "      <th>Specialty</th>\n",
       "      <th>AppointmentDate</th>\n",
       "      <th>fee</th>\n",
       "    </tr>\n",
       "  </thead>\n",
       "  <tbody>\n",
       "    <tr>\n",
       "      <th>5</th>\n",
       "      <td>6</td>\n",
       "      <td>Frank</td>\n",
       "      <td>Tom</td>\n",
       "      <td>Orthopedics</td>\n",
       "      <td>2023-06-21</td>\n",
       "      <td>15000</td>\n",
       "    </tr>\n",
       "  </tbody>\n",
       "</table>\n",
       "</div>"
      ],
      "text/plain": [
       "   DoctorID DoctorName PatientName    Specialty AppointmentDate    fee\n",
       "5         6      Frank         Tom  Orthopedics      2023-06-21  15000"
      ]
     },
     "metadata": {},
     "output_type": "display_data"
    },
    {
     "name": "stdout",
     "output_type": "stream",
     "text": [
      "================================\n"
     ]
    },
    {
     "data": {
      "text/plain": [
       "('March', 'Dermatology')"
      ]
     },
     "metadata": {},
     "output_type": "display_data"
    },
    {
     "data": {
      "text/html": [
       "<div>\n",
       "<style scoped>\n",
       "    .dataframe tbody tr th:only-of-type {\n",
       "        vertical-align: middle;\n",
       "    }\n",
       "\n",
       "    .dataframe tbody tr th {\n",
       "        vertical-align: top;\n",
       "    }\n",
       "\n",
       "    .dataframe thead th {\n",
       "        text-align: right;\n",
       "    }\n",
       "</style>\n",
       "<table border=\"1\" class=\"dataframe\">\n",
       "  <thead>\n",
       "    <tr style=\"text-align: right;\">\n",
       "      <th></th>\n",
       "      <th>DoctorID</th>\n",
       "      <th>DoctorName</th>\n",
       "      <th>PatientName</th>\n",
       "      <th>Specialty</th>\n",
       "      <th>AppointmentDate</th>\n",
       "      <th>fee</th>\n",
       "    </tr>\n",
       "  </thead>\n",
       "  <tbody>\n",
       "    <tr>\n",
       "      <th>2</th>\n",
       "      <td>3</td>\n",
       "      <td>Chloe</td>\n",
       "      <td>Tim</td>\n",
       "      <td>Dermatology</td>\n",
       "      <td>2023-03-14</td>\n",
       "      <td>12000</td>\n",
       "    </tr>\n",
       "  </tbody>\n",
       "</table>\n",
       "</div>"
      ],
      "text/plain": [
       "   DoctorID DoctorName PatientName    Specialty AppointmentDate    fee\n",
       "2         3      Chloe         Tim  Dermatology      2023-03-14  12000"
      ]
     },
     "metadata": {},
     "output_type": "display_data"
    },
    {
     "name": "stdout",
     "output_type": "stream",
     "text": [
      "================================\n"
     ]
    },
    {
     "data": {
      "text/plain": [
       "('May', 'Orthopedics')"
      ]
     },
     "metadata": {},
     "output_type": "display_data"
    },
    {
     "data": {
      "text/html": [
       "<div>\n",
       "<style scoped>\n",
       "    .dataframe tbody tr th:only-of-type {\n",
       "        vertical-align: middle;\n",
       "    }\n",
       "\n",
       "    .dataframe tbody tr th {\n",
       "        vertical-align: top;\n",
       "    }\n",
       "\n",
       "    .dataframe thead th {\n",
       "        text-align: right;\n",
       "    }\n",
       "</style>\n",
       "<table border=\"1\" class=\"dataframe\">\n",
       "  <thead>\n",
       "    <tr style=\"text-align: right;\">\n",
       "      <th></th>\n",
       "      <th>DoctorID</th>\n",
       "      <th>DoctorName</th>\n",
       "      <th>PatientName</th>\n",
       "      <th>Specialty</th>\n",
       "      <th>AppointmentDate</th>\n",
       "      <th>fee</th>\n",
       "    </tr>\n",
       "  </thead>\n",
       "  <tbody>\n",
       "    <tr>\n",
       "      <th>4</th>\n",
       "      <td>5</td>\n",
       "      <td>Eva</td>\n",
       "      <td>John</td>\n",
       "      <td>Orthopedics</td>\n",
       "      <td>2023-05-16</td>\n",
       "      <td>14000</td>\n",
       "    </tr>\n",
       "  </tbody>\n",
       "</table>\n",
       "</div>"
      ],
      "text/plain": [
       "   DoctorID DoctorName PatientName    Specialty AppointmentDate    fee\n",
       "4         5        Eva        John  Orthopedics      2023-05-16  14000"
      ]
     },
     "metadata": {},
     "output_type": "display_data"
    },
    {
     "name": "stdout",
     "output_type": "stream",
     "text": [
      "================================\n"
     ]
    },
    {
     "data": {
      "text/plain": [
       "('October', 'Cardiology')"
      ]
     },
     "metadata": {},
     "output_type": "display_data"
    },
    {
     "data": {
      "text/html": [
       "<div>\n",
       "<style scoped>\n",
       "    .dataframe tbody tr th:only-of-type {\n",
       "        vertical-align: middle;\n",
       "    }\n",
       "\n",
       "    .dataframe tbody tr th {\n",
       "        vertical-align: top;\n",
       "    }\n",
       "\n",
       "    .dataframe thead th {\n",
       "        text-align: right;\n",
       "    }\n",
       "</style>\n",
       "<table border=\"1\" class=\"dataframe\">\n",
       "  <thead>\n",
       "    <tr style=\"text-align: right;\">\n",
       "      <th></th>\n",
       "      <th>DoctorID</th>\n",
       "      <th>DoctorName</th>\n",
       "      <th>PatientName</th>\n",
       "      <th>Specialty</th>\n",
       "      <th>AppointmentDate</th>\n",
       "      <th>fee</th>\n",
       "    </tr>\n",
       "  </thead>\n",
       "  <tbody>\n",
       "    <tr>\n",
       "      <th>9</th>\n",
       "      <td>10</td>\n",
       "      <td>Jack</td>\n",
       "      <td>Noah</td>\n",
       "      <td>Cardiology</td>\n",
       "      <td>2023-10-05</td>\n",
       "      <td>19000</td>\n",
       "    </tr>\n",
       "  </tbody>\n",
       "</table>\n",
       "</div>"
      ],
      "text/plain": [
       "   DoctorID DoctorName PatientName   Specialty AppointmentDate    fee\n",
       "9        10       Jack        Noah  Cardiology      2023-10-05  19000"
      ]
     },
     "metadata": {},
     "output_type": "display_data"
    },
    {
     "name": "stdout",
     "output_type": "stream",
     "text": [
      "================================\n"
     ]
    },
    {
     "data": {
      "text/plain": [
       "('September', 'Orthopedics')"
      ]
     },
     "metadata": {},
     "output_type": "display_data"
    },
    {
     "data": {
      "text/html": [
       "<div>\n",
       "<style scoped>\n",
       "    .dataframe tbody tr th:only-of-type {\n",
       "        vertical-align: middle;\n",
       "    }\n",
       "\n",
       "    .dataframe tbody tr th {\n",
       "        vertical-align: top;\n",
       "    }\n",
       "\n",
       "    .dataframe thead th {\n",
       "        text-align: right;\n",
       "    }\n",
       "</style>\n",
       "<table border=\"1\" class=\"dataframe\">\n",
       "  <thead>\n",
       "    <tr style=\"text-align: right;\">\n",
       "      <th></th>\n",
       "      <th>DoctorID</th>\n",
       "      <th>DoctorName</th>\n",
       "      <th>PatientName</th>\n",
       "      <th>Specialty</th>\n",
       "      <th>AppointmentDate</th>\n",
       "      <th>fee</th>\n",
       "    </tr>\n",
       "  </thead>\n",
       "  <tbody>\n",
       "    <tr>\n",
       "      <th>8</th>\n",
       "      <td>9</td>\n",
       "      <td>Isabel</td>\n",
       "      <td>Oliver</td>\n",
       "      <td>Orthopedics</td>\n",
       "      <td>2023-09-10</td>\n",
       "      <td>18000</td>\n",
       "    </tr>\n",
       "  </tbody>\n",
       "</table>\n",
       "</div>"
      ],
      "text/plain": [
       "   DoctorID DoctorName PatientName    Specialty AppointmentDate    fee\n",
       "8         9     Isabel      Oliver  Orthopedics      2023-09-10  18000"
      ]
     },
     "metadata": {},
     "output_type": "display_data"
    },
    {
     "name": "stdout",
     "output_type": "stream",
     "text": [
      "================================\n"
     ]
    }
   ],
   "source": [
    "for group in list(doctors_df.groupby([doctors_df['AppointmentDate'].dt.strftime(\"%B\"), doctors_df['Specialty']])):\n",
    "    display(group[0])\n",
    "    display(group[1])\n",
    "    print('================================')"
   ]
  },
  {
   "cell_type": "code",
   "execution_count": 72,
   "metadata": {},
   "outputs": [
    {
     "data": {
      "text/html": [
       "<div>\n",
       "<style scoped>\n",
       "    .dataframe tbody tr th:only-of-type {\n",
       "        vertical-align: middle;\n",
       "    }\n",
       "\n",
       "    .dataframe tbody tr th {\n",
       "        vertical-align: top;\n",
       "    }\n",
       "\n",
       "    .dataframe thead th {\n",
       "        text-align: right;\n",
       "    }\n",
       "</style>\n",
       "<table border=\"1\" class=\"dataframe\">\n",
       "  <thead>\n",
       "    <tr style=\"text-align: right;\">\n",
       "      <th></th>\n",
       "      <th>DoctorID</th>\n",
       "      <th>DoctorName</th>\n",
       "      <th>PatientName</th>\n",
       "      <th>AppointmentDate</th>\n",
       "      <th>fee</th>\n",
       "    </tr>\n",
       "    <tr>\n",
       "      <th>Specialty</th>\n",
       "      <th></th>\n",
       "      <th></th>\n",
       "      <th></th>\n",
       "      <th></th>\n",
       "      <th></th>\n",
       "    </tr>\n",
       "  </thead>\n",
       "  <tbody>\n",
       "    <tr>\n",
       "      <th>Cardiology</th>\n",
       "      <td>3</td>\n",
       "      <td>3</td>\n",
       "      <td>3</td>\n",
       "      <td>3</td>\n",
       "      <td>3</td>\n",
       "    </tr>\n",
       "    <tr>\n",
       "      <th>Dermatology</th>\n",
       "      <td>2</td>\n",
       "      <td>2</td>\n",
       "      <td>2</td>\n",
       "      <td>2</td>\n",
       "      <td>2</td>\n",
       "    </tr>\n",
       "    <tr>\n",
       "      <th>Orthopedics</th>\n",
       "      <td>5</td>\n",
       "      <td>5</td>\n",
       "      <td>5</td>\n",
       "      <td>5</td>\n",
       "      <td>5</td>\n",
       "    </tr>\n",
       "  </tbody>\n",
       "</table>\n",
       "</div>"
      ],
      "text/plain": [
       "             DoctorID  DoctorName  PatientName  AppointmentDate  fee\n",
       "Specialty                                                           \n",
       "Cardiology          3           3            3                3    3\n",
       "Dermatology         2           2            2                2    2\n",
       "Orthopedics         5           5            5                5    5"
      ]
     },
     "execution_count": 72,
     "metadata": {},
     "output_type": "execute_result"
    }
   ],
   "source": [
    "doctors_df.groupby(['Specialty']).aggregate('count')"
   ]
  },
  {
   "cell_type": "code",
   "execution_count": 74,
   "metadata": {},
   "outputs": [
    {
     "name": "stderr",
     "output_type": "stream",
     "text": [
      "C:\\Users\\ghulam.ghaus\\AppData\\Local\\Temp\\ipykernel_13088\\887327074.py:4: FutureWarning: The provided callable <built-in function min> is currently using SeriesGroupBy.min. In a future version of pandas, the provided callable will be used directly. To keep current behavior pass the string \"min\" instead.\n",
      "  doctors_df.groupby(['AppointmentDate'])[['fee']].agg([len,min, max])\n",
      "C:\\Users\\ghulam.ghaus\\AppData\\Local\\Temp\\ipykernel_13088\\887327074.py:4: FutureWarning: The provided callable <built-in function max> is currently using SeriesGroupBy.max. In a future version of pandas, the provided callable will be used directly. To keep current behavior pass the string \"max\" instead.\n",
      "  doctors_df.groupby(['AppointmentDate'])[['fee']].agg([len,min, max])\n"
     ]
    },
    {
     "data": {
      "text/html": [
       "<div>\n",
       "<style scoped>\n",
       "    .dataframe tbody tr th:only-of-type {\n",
       "        vertical-align: middle;\n",
       "    }\n",
       "\n",
       "    .dataframe tbody tr th {\n",
       "        vertical-align: top;\n",
       "    }\n",
       "\n",
       "    .dataframe thead tr th {\n",
       "        text-align: left;\n",
       "    }\n",
       "\n",
       "    .dataframe thead tr:last-of-type th {\n",
       "        text-align: right;\n",
       "    }\n",
       "</style>\n",
       "<table border=\"1\" class=\"dataframe\">\n",
       "  <thead>\n",
       "    <tr>\n",
       "      <th></th>\n",
       "      <th colspan=\"3\" halign=\"left\">fee</th>\n",
       "    </tr>\n",
       "    <tr>\n",
       "      <th></th>\n",
       "      <th>len</th>\n",
       "      <th>min</th>\n",
       "      <th>max</th>\n",
       "    </tr>\n",
       "    <tr>\n",
       "      <th>AppointmentDate</th>\n",
       "      <th></th>\n",
       "      <th></th>\n",
       "      <th></th>\n",
       "    </tr>\n",
       "  </thead>\n",
       "  <tbody>\n",
       "    <tr>\n",
       "      <th>2023-01-10</th>\n",
       "      <td>1</td>\n",
       "      <td>10000</td>\n",
       "      <td>10000</td>\n",
       "    </tr>\n",
       "    <tr>\n",
       "      <th>2023-02-12</th>\n",
       "      <td>1</td>\n",
       "      <td>11000</td>\n",
       "      <td>11000</td>\n",
       "    </tr>\n",
       "    <tr>\n",
       "      <th>2023-03-14</th>\n",
       "      <td>1</td>\n",
       "      <td>12000</td>\n",
       "      <td>12000</td>\n",
       "    </tr>\n",
       "    <tr>\n",
       "      <th>2023-04-10</th>\n",
       "      <td>1</td>\n",
       "      <td>13000</td>\n",
       "      <td>13000</td>\n",
       "    </tr>\n",
       "    <tr>\n",
       "      <th>2023-05-16</th>\n",
       "      <td>1</td>\n",
       "      <td>14000</td>\n",
       "      <td>14000</td>\n",
       "    </tr>\n",
       "    <tr>\n",
       "      <th>2023-06-21</th>\n",
       "      <td>1</td>\n",
       "      <td>15000</td>\n",
       "      <td>15000</td>\n",
       "    </tr>\n",
       "    <tr>\n",
       "      <th>2023-07-25</th>\n",
       "      <td>1</td>\n",
       "      <td>16000</td>\n",
       "      <td>16000</td>\n",
       "    </tr>\n",
       "    <tr>\n",
       "      <th>2023-08-17</th>\n",
       "      <td>1</td>\n",
       "      <td>17000</td>\n",
       "      <td>17000</td>\n",
       "    </tr>\n",
       "    <tr>\n",
       "      <th>2023-09-10</th>\n",
       "      <td>1</td>\n",
       "      <td>18000</td>\n",
       "      <td>18000</td>\n",
       "    </tr>\n",
       "    <tr>\n",
       "      <th>2023-10-05</th>\n",
       "      <td>1</td>\n",
       "      <td>19000</td>\n",
       "      <td>19000</td>\n",
       "    </tr>\n",
       "  </tbody>\n",
       "</table>\n",
       "</div>"
      ],
      "text/plain": [
       "                fee              \n",
       "                len    min    max\n",
       "AppointmentDate                  \n",
       "2023-01-10        1  10000  10000\n",
       "2023-02-12        1  11000  11000\n",
       "2023-03-14        1  12000  12000\n",
       "2023-04-10        1  13000  13000\n",
       "2023-05-16        1  14000  14000\n",
       "2023-06-21        1  15000  15000\n",
       "2023-07-25        1  16000  16000\n",
       "2023-08-17        1  17000  17000\n",
       "2023-09-10        1  18000  18000\n",
       "2023-10-05        1  19000  19000"
      ]
     },
     "execution_count": 74,
     "metadata": {},
     "output_type": "execute_result"
    }
   ],
   "source": [
    "\n",
    "\n",
    "from numpy import mean\n",
    "\n",
    "\n",
    "doctors_df.groupby(['AppointmentDate'])[['fee']].agg([len,min, max])\n",
    "\n"
   ]
  },
  {
   "cell_type": "code",
   "execution_count": 75,
   "metadata": {},
   "outputs": [
    {
     "name": "stderr",
     "output_type": "stream",
     "text": [
      "C:\\Users\\ghulam.ghaus\\AppData\\Local\\Temp\\ipykernel_13088\\1572179350.py:1: FutureWarning: The provided callable <built-in function min> is currently using SeriesGroupBy.min. In a future version of pandas, the provided callable will be used directly. To keep current behavior pass the string \"min\" instead.\n",
      "  doctors_df.groupby(['Specialty',doctors_df['AppointmentDate'].dt.strftime(\"%B\")])[['fee']].agg([len,min, max])\n",
      "C:\\Users\\ghulam.ghaus\\AppData\\Local\\Temp\\ipykernel_13088\\1572179350.py:1: FutureWarning: The provided callable <built-in function max> is currently using SeriesGroupBy.max. In a future version of pandas, the provided callable will be used directly. To keep current behavior pass the string \"max\" instead.\n",
      "  doctors_df.groupby(['Specialty',doctors_df['AppointmentDate'].dt.strftime(\"%B\")])[['fee']].agg([len,min, max])\n"
     ]
    },
    {
     "data": {
      "text/html": [
       "<div>\n",
       "<style scoped>\n",
       "    .dataframe tbody tr th:only-of-type {\n",
       "        vertical-align: middle;\n",
       "    }\n",
       "\n",
       "    .dataframe tbody tr th {\n",
       "        vertical-align: top;\n",
       "    }\n",
       "\n",
       "    .dataframe thead tr th {\n",
       "        text-align: left;\n",
       "    }\n",
       "\n",
       "    .dataframe thead tr:last-of-type th {\n",
       "        text-align: right;\n",
       "    }\n",
       "</style>\n",
       "<table border=\"1\" class=\"dataframe\">\n",
       "  <thead>\n",
       "    <tr>\n",
       "      <th></th>\n",
       "      <th></th>\n",
       "      <th colspan=\"3\" halign=\"left\">fee</th>\n",
       "    </tr>\n",
       "    <tr>\n",
       "      <th></th>\n",
       "      <th></th>\n",
       "      <th>len</th>\n",
       "      <th>min</th>\n",
       "      <th>max</th>\n",
       "    </tr>\n",
       "    <tr>\n",
       "      <th>Specialty</th>\n",
       "      <th>AppointmentDate</th>\n",
       "      <th></th>\n",
       "      <th></th>\n",
       "      <th></th>\n",
       "    </tr>\n",
       "  </thead>\n",
       "  <tbody>\n",
       "    <tr>\n",
       "      <th rowspan=\"3\" valign=\"top\">Cardiology</th>\n",
       "      <th>February</th>\n",
       "      <td>1</td>\n",
       "      <td>11000</td>\n",
       "      <td>11000</td>\n",
       "    </tr>\n",
       "    <tr>\n",
       "      <th>January</th>\n",
       "      <td>1</td>\n",
       "      <td>10000</td>\n",
       "      <td>10000</td>\n",
       "    </tr>\n",
       "    <tr>\n",
       "      <th>October</th>\n",
       "      <td>1</td>\n",
       "      <td>19000</td>\n",
       "      <td>19000</td>\n",
       "    </tr>\n",
       "    <tr>\n",
       "      <th rowspan=\"2\" valign=\"top\">Dermatology</th>\n",
       "      <th>July</th>\n",
       "      <td>1</td>\n",
       "      <td>16000</td>\n",
       "      <td>16000</td>\n",
       "    </tr>\n",
       "    <tr>\n",
       "      <th>March</th>\n",
       "      <td>1</td>\n",
       "      <td>12000</td>\n",
       "      <td>12000</td>\n",
       "    </tr>\n",
       "    <tr>\n",
       "      <th rowspan=\"5\" valign=\"top\">Orthopedics</th>\n",
       "      <th>April</th>\n",
       "      <td>1</td>\n",
       "      <td>13000</td>\n",
       "      <td>13000</td>\n",
       "    </tr>\n",
       "    <tr>\n",
       "      <th>August</th>\n",
       "      <td>1</td>\n",
       "      <td>17000</td>\n",
       "      <td>17000</td>\n",
       "    </tr>\n",
       "    <tr>\n",
       "      <th>June</th>\n",
       "      <td>1</td>\n",
       "      <td>15000</td>\n",
       "      <td>15000</td>\n",
       "    </tr>\n",
       "    <tr>\n",
       "      <th>May</th>\n",
       "      <td>1</td>\n",
       "      <td>14000</td>\n",
       "      <td>14000</td>\n",
       "    </tr>\n",
       "    <tr>\n",
       "      <th>September</th>\n",
       "      <td>1</td>\n",
       "      <td>18000</td>\n",
       "      <td>18000</td>\n",
       "    </tr>\n",
       "  </tbody>\n",
       "</table>\n",
       "</div>"
      ],
      "text/plain": [
       "                            fee              \n",
       "                            len    min    max\n",
       "Specialty   AppointmentDate                  \n",
       "Cardiology  February          1  11000  11000\n",
       "            January           1  10000  10000\n",
       "            October           1  19000  19000\n",
       "Dermatology July              1  16000  16000\n",
       "            March             1  12000  12000\n",
       "Orthopedics April             1  13000  13000\n",
       "            August            1  17000  17000\n",
       "            June              1  15000  15000\n",
       "            May               1  14000  14000\n",
       "            September         1  18000  18000"
      ]
     },
     "execution_count": 75,
     "metadata": {},
     "output_type": "execute_result"
    }
   ],
   "source": [
    "doctors_df.groupby(['Specialty',doctors_df['AppointmentDate'].dt.strftime(\"%B\")])[['fee']].agg([len,min, max])"
   ]
  },
  {
   "cell_type": "code",
   "execution_count": 76,
   "metadata": {},
   "outputs": [
    {
     "data": {
      "text/html": [
       "<div>\n",
       "<style scoped>\n",
       "    .dataframe tbody tr th:only-of-type {\n",
       "        vertical-align: middle;\n",
       "    }\n",
       "\n",
       "    .dataframe tbody tr th {\n",
       "        vertical-align: top;\n",
       "    }\n",
       "\n",
       "    .dataframe thead th {\n",
       "        text-align: right;\n",
       "    }\n",
       "</style>\n",
       "<table border=\"1\" class=\"dataframe\">\n",
       "  <thead>\n",
       "    <tr style=\"text-align: right;\">\n",
       "      <th></th>\n",
       "      <th></th>\n",
       "      <th>DoctorID</th>\n",
       "      <th>DoctorName</th>\n",
       "      <th>PatientName</th>\n",
       "      <th>Specialty</th>\n",
       "      <th>AppointmentDate</th>\n",
       "      <th>fee</th>\n",
       "    </tr>\n",
       "    <tr>\n",
       "      <th>Specialty</th>\n",
       "      <th></th>\n",
       "      <th></th>\n",
       "      <th></th>\n",
       "      <th></th>\n",
       "      <th></th>\n",
       "      <th></th>\n",
       "      <th></th>\n",
       "    </tr>\n",
       "  </thead>\n",
       "  <tbody>\n",
       "    <tr>\n",
       "      <th rowspan=\"3\" valign=\"top\">Cardiology</th>\n",
       "      <th>0</th>\n",
       "      <td>1</td>\n",
       "      <td>Alice</td>\n",
       "      <td>Bob</td>\n",
       "      <td>Cardiology</td>\n",
       "      <td>2023-01-10</td>\n",
       "      <td>10000</td>\n",
       "    </tr>\n",
       "    <tr>\n",
       "      <th>1</th>\n",
       "      <td>2</td>\n",
       "      <td>Brian</td>\n",
       "      <td>Steve</td>\n",
       "      <td>Cardiology</td>\n",
       "      <td>2023-02-12</td>\n",
       "      <td>11000</td>\n",
       "    </tr>\n",
       "    <tr>\n",
       "      <th>9</th>\n",
       "      <td>10</td>\n",
       "      <td>Jack</td>\n",
       "      <td>Noah</td>\n",
       "      <td>Cardiology</td>\n",
       "      <td>2023-10-05</td>\n",
       "      <td>19000</td>\n",
       "    </tr>\n",
       "    <tr>\n",
       "      <th rowspan=\"2\" valign=\"top\">Dermatology</th>\n",
       "      <th>2</th>\n",
       "      <td>3</td>\n",
       "      <td>Chloe</td>\n",
       "      <td>Tim</td>\n",
       "      <td>Dermatology</td>\n",
       "      <td>2023-03-14</td>\n",
       "      <td>12000</td>\n",
       "    </tr>\n",
       "    <tr>\n",
       "      <th>6</th>\n",
       "      <td>7</td>\n",
       "      <td>Grace</td>\n",
       "      <td>Harry</td>\n",
       "      <td>Dermatology</td>\n",
       "      <td>2023-07-25</td>\n",
       "      <td>16000</td>\n",
       "    </tr>\n",
       "    <tr>\n",
       "      <th rowspan=\"5\" valign=\"top\">Orthopedics</th>\n",
       "      <th>3</th>\n",
       "      <td>4</td>\n",
       "      <td>David</td>\n",
       "      <td>Rick</td>\n",
       "      <td>Orthopedics</td>\n",
       "      <td>2023-04-10</td>\n",
       "      <td>13000</td>\n",
       "    </tr>\n",
       "    <tr>\n",
       "      <th>4</th>\n",
       "      <td>5</td>\n",
       "      <td>Eva</td>\n",
       "      <td>John</td>\n",
       "      <td>Orthopedics</td>\n",
       "      <td>2023-05-16</td>\n",
       "      <td>14000</td>\n",
       "    </tr>\n",
       "    <tr>\n",
       "      <th>5</th>\n",
       "      <td>6</td>\n",
       "      <td>Frank</td>\n",
       "      <td>Tom</td>\n",
       "      <td>Orthopedics</td>\n",
       "      <td>2023-06-21</td>\n",
       "      <td>15000</td>\n",
       "    </tr>\n",
       "    <tr>\n",
       "      <th>7</th>\n",
       "      <td>8</td>\n",
       "      <td>Henry</td>\n",
       "      <td>Charles</td>\n",
       "      <td>Orthopedics</td>\n",
       "      <td>2023-08-17</td>\n",
       "      <td>17000</td>\n",
       "    </tr>\n",
       "    <tr>\n",
       "      <th>8</th>\n",
       "      <td>9</td>\n",
       "      <td>Isabel</td>\n",
       "      <td>Oliver</td>\n",
       "      <td>Orthopedics</td>\n",
       "      <td>2023-09-10</td>\n",
       "      <td>18000</td>\n",
       "    </tr>\n",
       "  </tbody>\n",
       "</table>\n",
       "</div>"
      ],
      "text/plain": [
       "               DoctorID DoctorName PatientName    Specialty AppointmentDate  \\\n",
       "Specialty                                                                     \n",
       "Cardiology  0         1      Alice         Bob   Cardiology      2023-01-10   \n",
       "            1         2      Brian       Steve   Cardiology      2023-02-12   \n",
       "            9        10       Jack        Noah   Cardiology      2023-10-05   \n",
       "Dermatology 2         3      Chloe         Tim  Dermatology      2023-03-14   \n",
       "            6         7      Grace       Harry  Dermatology      2023-07-25   \n",
       "Orthopedics 3         4      David        Rick  Orthopedics      2023-04-10   \n",
       "            4         5        Eva        John  Orthopedics      2023-05-16   \n",
       "            5         6      Frank         Tom  Orthopedics      2023-06-21   \n",
       "            7         8      Henry     Charles  Orthopedics      2023-08-17   \n",
       "            8         9     Isabel      Oliver  Orthopedics      2023-09-10   \n",
       "\n",
       "                 fee  \n",
       "Specialty             \n",
       "Cardiology  0  10000  \n",
       "            1  11000  \n",
       "            9  19000  \n",
       "Dermatology 2  12000  \n",
       "            6  16000  \n",
       "Orthopedics 3  13000  \n",
       "            4  14000  \n",
       "            5  15000  \n",
       "            7  17000  \n",
       "            8  18000  "
      ]
     },
     "execution_count": 76,
     "metadata": {},
     "output_type": "execute_result"
    }
   ],
   "source": [
    "doctors_df.groupby(['Specialty']).apply(lambda x: x.head())"
   ]
  },
  {
   "cell_type": "code",
   "execution_count": 77,
   "metadata": {},
   "outputs": [
    {
     "data": {
      "text/html": [
       "<div>\n",
       "<style scoped>\n",
       "    .dataframe tbody tr th:only-of-type {\n",
       "        vertical-align: middle;\n",
       "    }\n",
       "\n",
       "    .dataframe tbody tr th {\n",
       "        vertical-align: top;\n",
       "    }\n",
       "\n",
       "    .dataframe thead th {\n",
       "        text-align: right;\n",
       "    }\n",
       "</style>\n",
       "<table border=\"1\" class=\"dataframe\">\n",
       "  <thead>\n",
       "    <tr style=\"text-align: right;\">\n",
       "      <th></th>\n",
       "      <th></th>\n",
       "      <th>DoctorID</th>\n",
       "      <th>DoctorName</th>\n",
       "      <th>PatientName</th>\n",
       "      <th>Specialty</th>\n",
       "      <th>AppointmentDate</th>\n",
       "      <th>fee</th>\n",
       "    </tr>\n",
       "    <tr>\n",
       "      <th>Specialty</th>\n",
       "      <th></th>\n",
       "      <th></th>\n",
       "      <th></th>\n",
       "      <th></th>\n",
       "      <th></th>\n",
       "      <th></th>\n",
       "      <th></th>\n",
       "    </tr>\n",
       "  </thead>\n",
       "  <tbody>\n",
       "    <tr>\n",
       "      <th>Cardiology</th>\n",
       "      <th>0</th>\n",
       "      <td>1</td>\n",
       "      <td>Alice</td>\n",
       "      <td>Bob</td>\n",
       "      <td>Cardiology</td>\n",
       "      <td>2023-01-10</td>\n",
       "      <td>10000</td>\n",
       "    </tr>\n",
       "    <tr>\n",
       "      <th>Dermatology</th>\n",
       "      <th>2</th>\n",
       "      <td>3</td>\n",
       "      <td>Chloe</td>\n",
       "      <td>Tim</td>\n",
       "      <td>Dermatology</td>\n",
       "      <td>2023-03-14</td>\n",
       "      <td>12000</td>\n",
       "    </tr>\n",
       "    <tr>\n",
       "      <th>Orthopedics</th>\n",
       "      <th>3</th>\n",
       "      <td>4</td>\n",
       "      <td>David</td>\n",
       "      <td>Rick</td>\n",
       "      <td>Orthopedics</td>\n",
       "      <td>2023-04-10</td>\n",
       "      <td>13000</td>\n",
       "    </tr>\n",
       "  </tbody>\n",
       "</table>\n",
       "</div>"
      ],
      "text/plain": [
       "               DoctorID DoctorName PatientName    Specialty AppointmentDate  \\\n",
       "Specialty                                                                     \n",
       "Cardiology  0         1      Alice         Bob   Cardiology      2023-01-10   \n",
       "Dermatology 2         3      Chloe         Tim  Dermatology      2023-03-14   \n",
       "Orthopedics 3         4      David        Rick  Orthopedics      2023-04-10   \n",
       "\n",
       "                 fee  \n",
       "Specialty             \n",
       "Cardiology  0  10000  \n",
       "Dermatology 2  12000  \n",
       "Orthopedics 3  13000  "
      ]
     },
     "execution_count": 77,
     "metadata": {},
     "output_type": "execute_result"
    }
   ],
   "source": [
    "\n",
    "\n",
    "doctors_df.groupby(['Specialty']).apply(lambda x: x.head(1))\n",
    "\n"
   ]
  },
  {
   "cell_type": "code",
   "execution_count": 78,
   "metadata": {},
   "outputs": [
    {
     "data": {
      "text/html": [
       "<div>\n",
       "<style scoped>\n",
       "    .dataframe tbody tr th:only-of-type {\n",
       "        vertical-align: middle;\n",
       "    }\n",
       "\n",
       "    .dataframe tbody tr th {\n",
       "        vertical-align: top;\n",
       "    }\n",
       "\n",
       "    .dataframe thead th {\n",
       "        text-align: right;\n",
       "    }\n",
       "</style>\n",
       "<table border=\"1\" class=\"dataframe\">\n",
       "  <thead>\n",
       "    <tr style=\"text-align: right;\">\n",
       "      <th></th>\n",
       "      <th></th>\n",
       "      <th>DoctorID</th>\n",
       "      <th>DoctorName</th>\n",
       "      <th>PatientName</th>\n",
       "      <th>Specialty</th>\n",
       "      <th>AppointmentDate</th>\n",
       "      <th>fee</th>\n",
       "    </tr>\n",
       "    <tr>\n",
       "      <th>Specialty</th>\n",
       "      <th></th>\n",
       "      <th></th>\n",
       "      <th></th>\n",
       "      <th></th>\n",
       "      <th></th>\n",
       "      <th></th>\n",
       "      <th></th>\n",
       "    </tr>\n",
       "  </thead>\n",
       "  <tbody>\n",
       "    <tr>\n",
       "      <th rowspan=\"3\" valign=\"top\">Cardiology</th>\n",
       "      <th>0</th>\n",
       "      <td>1</td>\n",
       "      <td>Alice</td>\n",
       "      <td>Bob</td>\n",
       "      <td>Cardiology</td>\n",
       "      <td>2023-01-10</td>\n",
       "      <td>10000</td>\n",
       "    </tr>\n",
       "    <tr>\n",
       "      <th>1</th>\n",
       "      <td>2</td>\n",
       "      <td>Brian</td>\n",
       "      <td>Steve</td>\n",
       "      <td>Cardiology</td>\n",
       "      <td>2023-02-12</td>\n",
       "      <td>11000</td>\n",
       "    </tr>\n",
       "    <tr>\n",
       "      <th>9</th>\n",
       "      <td>10</td>\n",
       "      <td>Jack</td>\n",
       "      <td>Noah</td>\n",
       "      <td>Cardiology</td>\n",
       "      <td>2023-10-05</td>\n",
       "      <td>19000</td>\n",
       "    </tr>\n",
       "    <tr>\n",
       "      <th rowspan=\"2\" valign=\"top\">Dermatology</th>\n",
       "      <th>2</th>\n",
       "      <td>3</td>\n",
       "      <td>Chloe</td>\n",
       "      <td>Tim</td>\n",
       "      <td>Dermatology</td>\n",
       "      <td>2023-03-14</td>\n",
       "      <td>12000</td>\n",
       "    </tr>\n",
       "    <tr>\n",
       "      <th>6</th>\n",
       "      <td>7</td>\n",
       "      <td>Grace</td>\n",
       "      <td>Harry</td>\n",
       "      <td>Dermatology</td>\n",
       "      <td>2023-07-25</td>\n",
       "      <td>16000</td>\n",
       "    </tr>\n",
       "    <tr>\n",
       "      <th rowspan=\"5\" valign=\"top\">Orthopedics</th>\n",
       "      <th>3</th>\n",
       "      <td>4</td>\n",
       "      <td>David</td>\n",
       "      <td>Rick</td>\n",
       "      <td>Orthopedics</td>\n",
       "      <td>2023-04-10</td>\n",
       "      <td>13000</td>\n",
       "    </tr>\n",
       "    <tr>\n",
       "      <th>4</th>\n",
       "      <td>5</td>\n",
       "      <td>Eva</td>\n",
       "      <td>John</td>\n",
       "      <td>Orthopedics</td>\n",
       "      <td>2023-05-16</td>\n",
       "      <td>14000</td>\n",
       "    </tr>\n",
       "    <tr>\n",
       "      <th>5</th>\n",
       "      <td>6</td>\n",
       "      <td>Frank</td>\n",
       "      <td>Tom</td>\n",
       "      <td>Orthopedics</td>\n",
       "      <td>2023-06-21</td>\n",
       "      <td>15000</td>\n",
       "    </tr>\n",
       "    <tr>\n",
       "      <th>7</th>\n",
       "      <td>8</td>\n",
       "      <td>Henry</td>\n",
       "      <td>Charles</td>\n",
       "      <td>Orthopedics</td>\n",
       "      <td>2023-08-17</td>\n",
       "      <td>17000</td>\n",
       "    </tr>\n",
       "    <tr>\n",
       "      <th>8</th>\n",
       "      <td>9</td>\n",
       "      <td>Isabel</td>\n",
       "      <td>Oliver</td>\n",
       "      <td>Orthopedics</td>\n",
       "      <td>2023-09-10</td>\n",
       "      <td>18000</td>\n",
       "    </tr>\n",
       "  </tbody>\n",
       "</table>\n",
       "</div>"
      ],
      "text/plain": [
       "               DoctorID DoctorName PatientName    Specialty AppointmentDate  \\\n",
       "Specialty                                                                     \n",
       "Cardiology  0         1      Alice         Bob   Cardiology      2023-01-10   \n",
       "            1         2      Brian       Steve   Cardiology      2023-02-12   \n",
       "            9        10       Jack        Noah   Cardiology      2023-10-05   \n",
       "Dermatology 2         3      Chloe         Tim  Dermatology      2023-03-14   \n",
       "            6         7      Grace       Harry  Dermatology      2023-07-25   \n",
       "Orthopedics 3         4      David        Rick  Orthopedics      2023-04-10   \n",
       "            4         5        Eva        John  Orthopedics      2023-05-16   \n",
       "            5         6      Frank         Tom  Orthopedics      2023-06-21   \n",
       "            7         8      Henry     Charles  Orthopedics      2023-08-17   \n",
       "            8         9     Isabel      Oliver  Orthopedics      2023-09-10   \n",
       "\n",
       "                 fee  \n",
       "Specialty             \n",
       "Cardiology  0  10000  \n",
       "            1  11000  \n",
       "            9  19000  \n",
       "Dermatology 2  12000  \n",
       "            6  16000  \n",
       "Orthopedics 3  13000  \n",
       "            4  14000  \n",
       "            5  15000  \n",
       "            7  17000  \n",
       "            8  18000  "
      ]
     },
     "execution_count": 78,
     "metadata": {},
     "output_type": "execute_result"
    }
   ],
   "source": [
    "\n",
    "\n",
    "doctors_df.groupby(['Specialty']).apply(lambda x: x.head())\n",
    "\n"
   ]
  },
  {
   "cell_type": "code",
   "execution_count": 79,
   "metadata": {},
   "outputs": [
    {
     "data": {
      "text/plain": [
       "<Axes: xlabel='Specialty'>"
      ]
     },
     "execution_count": 79,
     "metadata": {},
     "output_type": "execute_result"
    },
    {
     "data": {
      "image/png": "[encoded data removed]",
      "text/plain": [
       "<Figure size 640x480 with 1 Axes>"
      ]
     },
     "metadata": {},
     "output_type": "display_data"
    }
   ],
   "source": [
    "doctors_df.Specialty.value_counts().plot()"
   ]
  },
  {
   "cell_type": "code",
   "execution_count": 80,
   "metadata": {},
   "outputs": [
    {
     "data": {
      "text/plain": [
       "<Axes: xlabel='Specialty'>"
      ]
     },
     "execution_count": 80,
     "metadata": {},
     "output_type": "execute_result"
    },
    {
     "data": {
      "image/png": "[encoded data removed]",
      "text/plain": [
       "<Figure size 640x480 with 1 Axes>"
      ]
     },
     "metadata": {},
     "output_type": "display_data"
    }
   ],
   "source": [
    "doctors_df.Specialty.value_counts().plot(kind='bar')"
   ]
  },
  {
   "cell_type": "code",
   "execution_count": 81,
   "metadata": {},
   "outputs": [
    {
     "data": {
      "text/plain": [
       "<Axes: ylabel='count'>"
      ]
     },
     "execution_count": 81,
     "metadata": {},
     "output_type": "execute_result"
    },
    {
     "data": {
      "image/png": "[encoded data removed]",
      "text/plain": [
       "<Figure size 640x480 with 1 Axes>"
      ]
     },
     "metadata": {},
     "output_type": "display_data"
    }
   ],
   "source": [
    "doctors_df.Specialty.value_counts().plot(kind='pie')"
   ]
  },
  {
   "cell_type": "code",
   "execution_count": 82,
   "metadata": {},
   "outputs": [
    {
     "name": "stderr",
     "output_type": "stream",
     "text": [
      "C:\\Users\\ghulam.ghaus\\AppData\\Local\\Temp\\ipykernel_13088\\1500712514.py:1: FutureWarning: The provided callable <built-in function min> is currently using SeriesGroupBy.min. In a future version of pandas, the provided callable will be used directly. To keep current behavior pass the string \"min\" instead.\n",
      "  doctors_df.groupby(['Specialty'])[['fee']].aggregate([min,max, np.mean]    ).plot(kind='bar')\n",
      "C:\\Users\\ghulam.ghaus\\AppData\\Local\\Temp\\ipykernel_13088\\1500712514.py:1: FutureWarning: The provided callable <built-in function max> is currently using SeriesGroupBy.max. In a future version of pandas, the provided callable will be used directly. To keep current behavior pass the string \"max\" instead.\n",
      "  doctors_df.groupby(['Specialty'])[['fee']].aggregate([min,max, np.mean]    ).plot(kind='bar')\n",
      "C:\\Users\\ghulam.ghaus\\AppData\\Local\\Temp\\ipykernel_13088\\1500712514.py:1: FutureWarning: The provided callable <function mean at 0x0000027E5D8A2A20> is currently using SeriesGroupBy.mean. In a future version of pandas, the provided callable will be used directly. To keep current behavior pass the string \"mean\" instead.\n",
      "  doctors_df.groupby(['Specialty'])[['fee']].aggregate([min,max, np.mean]    ).plot(kind='bar')\n"
     ]
    },
    {
     "data": {
      "text/plain": [
       "<Axes: xlabel='Specialty'>"
      ]
     },
     "execution_count": 82,
     "metadata": {},
     "output_type": "execute_result"
    },
    {
     "data": {
      "image/png": "[encoded data removed]",
      "text/plain": [
       "<Figure size 640x480 with 1 Axes>"
      ]
     },
     "metadata": {},
     "output_type": "display_data"
    }
   ],
   "source": [
    "\n",
    "\n",
    "doctors_df.groupby(['Specialty'])[['fee']].aggregate([min,max, np.mean]    ).plot(kind='bar')\n",
    "\n"
   ]
  },
  {
   "cell_type": "markdown",
   "metadata": {},
   "source": [
    "## Data Wraggling\n",
    "\n",
    "   * .merge\n",
    "   *  .join\n",
    "   *  pd.concat([df1,df2])\n",
    "\n",
    "## joining\n",
    "\n",
    "   *  left join,\n",
    "   *  right join\n",
    "   *  inner join\n",
    "   *  outer join\n",
    "   *  cross join\n"
   ]
  },
  {
   "cell_type": "code",
   "execution_count": 83,
   "metadata": {},
   "outputs": [],
   "source": [
    "import pandas as pd\n",
    "from typing import Dict, Union, List, Iterator\n",
    "\n",
    "from collections.abc import Iterator\n",
    "\n",
    "# Sample data for the 'students' DataFrame\n",
    "doctors_data : Dict[str,List[Union[str,int]]] = {\n",
    "    'PatientId': [1, 2, 3, 4, 5],\n",
    "    'PatientName': ['Alice', 'Bob', 'Charlie', 'David', 'Eva'],\n",
    "    'DoctorID': [101, 102, 103, 101, 102]\n",
    "}\n",
    "doctors : pd.DataFrame = pd.DataFrame(doctors_data)\n",
    "\n",
    "# Sample data for the 'teachers' DataFrame\n",
    "patient_data : Dict[str,List[Union[str,int]]] ={\n",
    "    'DoctorID': [101, 102, 103],\n",
    "    'Specialty':['Physics', 'Chem','Maths'],\n",
    "    'DoctorName': ['Mr. Smith', 'Ms. Johnson', 'Dr. Lee']\n",
    "}\n",
    "patients = pd.DataFrame(patient_data)\n",
    "\n",
    "# Sample data for the 'student_fees' DataFrame\n",
    "patients_fees_data : Dict[str,List[Union[str,int]]] = {\n",
    "    'DoctorID': [1, 2, 3, 4, 5],\n",
    "    'fee_paid': [1500, 1500, 1500, 1500, 1500]\n",
    "}\n",
    "patients_fees = pd.DataFrame(patients_fees_data)"
   ]
  },
  {
   "cell_type": "markdown",
   "metadata": {},
   "source": [
    "\n",
    "## joining columns properties\n",
    "\n",
    "   * same pattern of both columns\n",
    "\n",
    "   * same data types of both columns\n",
    "\n",
    "   * name can be different (columns)\n",
    "\n",
    "   * Merg\n",
    "      *  on\n",
    "      * left_on\n",
    "      *  right_on\n",
    "      *  left_index=True\n",
    "      *  right_index=True\n",
    "    * how\n",
    "          *  joining types\n",
    "               * left\n",
    "               * right\n",
    "               * inner\n",
    "               * outer\n",
    "               * cross\n",
    "\n"
   ]
  },
  {
   "cell_type": "code",
   "execution_count": 87,
   "metadata": {},
   "outputs": [
    {
     "data": {
      "text/plain": [
       "(   PatientId PatientName  DoctorID\n",
       " 0          1       Alice       101\n",
       " 1          2         Bob       102\n",
       " 2          3     Charlie       103\n",
       " 3          4       David       101\n",
       " 4          5         Eva       102,)"
      ]
     },
     "execution_count": 87,
     "metadata": {},
     "output_type": "execute_result"
    }
   ],
   "source": [
    "doctors, "
   ]
  },
  {
   "cell_type": "code",
   "execution_count": 88,
   "metadata": {},
   "outputs": [
    {
     "data": {
      "text/html": [
       "<div>\n",
       "<style scoped>\n",
       "    .dataframe tbody tr th:only-of-type {\n",
       "        vertical-align: middle;\n",
       "    }\n",
       "\n",
       "    .dataframe tbody tr th {\n",
       "        vertical-align: top;\n",
       "    }\n",
       "\n",
       "    .dataframe thead th {\n",
       "        text-align: right;\n",
       "    }\n",
       "</style>\n",
       "<table border=\"1\" class=\"dataframe\">\n",
       "  <thead>\n",
       "    <tr style=\"text-align: right;\">\n",
       "      <th></th>\n",
       "      <th>DoctorID</th>\n",
       "      <th>Specialty</th>\n",
       "      <th>DoctorName</th>\n",
       "    </tr>\n",
       "  </thead>\n",
       "  <tbody>\n",
       "    <tr>\n",
       "      <th>0</th>\n",
       "      <td>101</td>\n",
       "      <td>Physics</td>\n",
       "      <td>Mr. Smith</td>\n",
       "    </tr>\n",
       "    <tr>\n",
       "      <th>1</th>\n",
       "      <td>102</td>\n",
       "      <td>Chem</td>\n",
       "      <td>Ms. Johnson</td>\n",
       "    </tr>\n",
       "    <tr>\n",
       "      <th>2</th>\n",
       "      <td>103</td>\n",
       "      <td>Maths</td>\n",
       "      <td>Dr. Lee</td>\n",
       "    </tr>\n",
       "  </tbody>\n",
       "</table>\n",
       "</div>"
      ],
      "text/plain": [
       "   DoctorID Specialty   DoctorName\n",
       "0       101   Physics    Mr. Smith\n",
       "1       102      Chem  Ms. Johnson\n",
       "2       103     Maths      Dr. Lee"
      ]
     },
     "execution_count": 88,
     "metadata": {},
     "output_type": "execute_result"
    }
   ],
   "source": [
    "patients"
   ]
  },
  {
   "cell_type": "code",
   "execution_count": 89,
   "metadata": {},
   "outputs": [
    {
     "data": {
      "text/html": [
       "<div>\n",
       "<style scoped>\n",
       "    .dataframe tbody tr th:only-of-type {\n",
       "        vertical-align: middle;\n",
       "    }\n",
       "\n",
       "    .dataframe tbody tr th {\n",
       "        vertical-align: top;\n",
       "    }\n",
       "\n",
       "    .dataframe thead th {\n",
       "        text-align: right;\n",
       "    }\n",
       "</style>\n",
       "<table border=\"1\" class=\"dataframe\">\n",
       "  <thead>\n",
       "    <tr style=\"text-align: right;\">\n",
       "      <th></th>\n",
       "      <th>DoctorID</th>\n",
       "      <th>fee_paid</th>\n",
       "    </tr>\n",
       "  </thead>\n",
       "  <tbody>\n",
       "    <tr>\n",
       "      <th>0</th>\n",
       "      <td>1</td>\n",
       "      <td>1500</td>\n",
       "    </tr>\n",
       "    <tr>\n",
       "      <th>1</th>\n",
       "      <td>2</td>\n",
       "      <td>1500</td>\n",
       "    </tr>\n",
       "    <tr>\n",
       "      <th>2</th>\n",
       "      <td>3</td>\n",
       "      <td>1500</td>\n",
       "    </tr>\n",
       "    <tr>\n",
       "      <th>3</th>\n",
       "      <td>4</td>\n",
       "      <td>1500</td>\n",
       "    </tr>\n",
       "    <tr>\n",
       "      <th>4</th>\n",
       "      <td>5</td>\n",
       "      <td>1500</td>\n",
       "    </tr>\n",
       "  </tbody>\n",
       "</table>\n",
       "</div>"
      ],
      "text/plain": [
       "   DoctorID  fee_paid\n",
       "0         1      1500\n",
       "1         2      1500\n",
       "2         3      1500\n",
       "3         4      1500\n",
       "4         5      1500"
      ]
     },
     "execution_count": 89,
     "metadata": {},
     "output_type": "execute_result"
    }
   ],
   "source": [
    "patients_fees"
   ]
  },
  {
   "cell_type": "code",
   "execution_count": 90,
   "metadata": {},
   "outputs": [
    {
     "name": "stdout",
     "output_type": "stream",
     "text": [
      "<class 'pandas.core.frame.DataFrame'>\n",
      "RangeIndex: 5 entries, 0 to 4\n",
      "Data columns (total 3 columns):\n",
      " #   Column       Non-Null Count  Dtype \n",
      "---  ------       --------------  ----- \n",
      " 0   PatientId    5 non-null      int64 \n",
      " 1   PatientName  5 non-null      object\n",
      " 2   DoctorID     5 non-null      int64 \n",
      "dtypes: int64(2), object(1)\n",
      "memory usage: 252.0+ bytes\n",
      "<class 'pandas.core.frame.DataFrame'>\n",
      "RangeIndex: 3 entries, 0 to 2\n",
      "Data columns (total 3 columns):\n",
      " #   Column      Non-Null Count  Dtype \n",
      "---  ------      --------------  ----- \n",
      " 0   DoctorID    3 non-null      int64 \n",
      " 1   Specialty   3 non-null      object\n",
      " 2   DoctorName  3 non-null      object\n",
      "dtypes: int64(1), object(2)\n",
      "memory usage: 204.0+ bytes\n",
      "<class 'pandas.core.frame.DataFrame'>\n",
      "RangeIndex: 5 entries, 0 to 4\n",
      "Data columns (total 2 columns):\n",
      " #   Column    Non-Null Count  Dtype\n",
      "---  ------    --------------  -----\n",
      " 0   DoctorID  5 non-null      int64\n",
      " 1   fee_paid  5 non-null      int64\n",
      "dtypes: int64(2)\n",
      "memory usage: 212.0 bytes\n"
     ]
    }
   ],
   "source": [
    "doctors.info()\n",
    "patients.info()\n",
    "patients_fees.info()\n"
   ]
  },
  {
   "cell_type": "code",
   "execution_count": 91,
   "metadata": {},
   "outputs": [
    {
     "data": {
      "text/html": [
       "<div>\n",
       "<style scoped>\n",
       "    .dataframe tbody tr th:only-of-type {\n",
       "        vertical-align: middle;\n",
       "    }\n",
       "\n",
       "    .dataframe tbody tr th {\n",
       "        vertical-align: top;\n",
       "    }\n",
       "\n",
       "    .dataframe thead th {\n",
       "        text-align: right;\n",
       "    }\n",
       "</style>\n",
       "<table border=\"1\" class=\"dataframe\">\n",
       "  <thead>\n",
       "    <tr style=\"text-align: right;\">\n",
       "      <th></th>\n",
       "      <th>PatientId</th>\n",
       "      <th>PatientName</th>\n",
       "      <th>DoctorID</th>\n",
       "    </tr>\n",
       "  </thead>\n",
       "  <tbody>\n",
       "    <tr>\n",
       "      <th>0</th>\n",
       "      <td>1</td>\n",
       "      <td>Alice</td>\n",
       "      <td>101</td>\n",
       "    </tr>\n",
       "    <tr>\n",
       "      <th>1</th>\n",
       "      <td>2</td>\n",
       "      <td>Bob</td>\n",
       "      <td>102</td>\n",
       "    </tr>\n",
       "    <tr>\n",
       "      <th>2</th>\n",
       "      <td>3</td>\n",
       "      <td>Charlie</td>\n",
       "      <td>103</td>\n",
       "    </tr>\n",
       "    <tr>\n",
       "      <th>3</th>\n",
       "      <td>4</td>\n",
       "      <td>David</td>\n",
       "      <td>101</td>\n",
       "    </tr>\n",
       "    <tr>\n",
       "      <th>4</th>\n",
       "      <td>5</td>\n",
       "      <td>Eva</td>\n",
       "      <td>102</td>\n",
       "    </tr>\n",
       "  </tbody>\n",
       "</table>\n",
       "</div>"
      ],
      "text/plain": [
       "   PatientId PatientName  DoctorID\n",
       "0          1       Alice       101\n",
       "1          2         Bob       102\n",
       "2          3     Charlie       103\n",
       "3          4       David       101\n",
       "4          5         Eva       102"
      ]
     },
     "metadata": {},
     "output_type": "display_data"
    },
    {
     "data": {
      "text/html": [
       "<div>\n",
       "<style scoped>\n",
       "    .dataframe tbody tr th:only-of-type {\n",
       "        vertical-align: middle;\n",
       "    }\n",
       "\n",
       "    .dataframe tbody tr th {\n",
       "        vertical-align: top;\n",
       "    }\n",
       "\n",
       "    .dataframe thead th {\n",
       "        text-align: right;\n",
       "    }\n",
       "</style>\n",
       "<table border=\"1\" class=\"dataframe\">\n",
       "  <thead>\n",
       "    <tr style=\"text-align: right;\">\n",
       "      <th></th>\n",
       "      <th>DoctorID</th>\n",
       "      <th>Specialty</th>\n",
       "      <th>DoctorName</th>\n",
       "    </tr>\n",
       "  </thead>\n",
       "  <tbody>\n",
       "    <tr>\n",
       "      <th>0</th>\n",
       "      <td>101</td>\n",
       "      <td>Physics</td>\n",
       "      <td>Mr. Smith</td>\n",
       "    </tr>\n",
       "    <tr>\n",
       "      <th>1</th>\n",
       "      <td>102</td>\n",
       "      <td>Chem</td>\n",
       "      <td>Ms. Johnson</td>\n",
       "    </tr>\n",
       "    <tr>\n",
       "      <th>2</th>\n",
       "      <td>103</td>\n",
       "      <td>Maths</td>\n",
       "      <td>Dr. Lee</td>\n",
       "    </tr>\n",
       "  </tbody>\n",
       "</table>\n",
       "</div>"
      ],
      "text/plain": [
       "   DoctorID Specialty   DoctorName\n",
       "0       101   Physics    Mr. Smith\n",
       "1       102      Chem  Ms. Johnson\n",
       "2       103     Maths      Dr. Lee"
      ]
     },
     "metadata": {},
     "output_type": "display_data"
    }
   ],
   "source": [
    "display(doctors)\n",
    "display(patients)"
   ]
  },
  {
   "cell_type": "code",
   "execution_count": 93,
   "metadata": {},
   "outputs": [
    {
     "data": {
      "text/html": [
       "<div>\n",
       "<style scoped>\n",
       "    .dataframe tbody tr th:only-of-type {\n",
       "        vertical-align: middle;\n",
       "    }\n",
       "\n",
       "    .dataframe tbody tr th {\n",
       "        vertical-align: top;\n",
       "    }\n",
       "\n",
       "    .dataframe thead th {\n",
       "        text-align: right;\n",
       "    }\n",
       "</style>\n",
       "<table border=\"1\" class=\"dataframe\">\n",
       "  <thead>\n",
       "    <tr style=\"text-align: right;\">\n",
       "      <th></th>\n",
       "      <th>DoctorID</th>\n",
       "      <th>Specialty</th>\n",
       "      <th>DoctorName</th>\n",
       "      <th>PatientId</th>\n",
       "      <th>PatientName</th>\n",
       "    </tr>\n",
       "  </thead>\n",
       "  <tbody>\n",
       "    <tr>\n",
       "      <th>0</th>\n",
       "      <td>101</td>\n",
       "      <td>Physics</td>\n",
       "      <td>Mr. Smith</td>\n",
       "      <td>1</td>\n",
       "      <td>Alice</td>\n",
       "    </tr>\n",
       "    <tr>\n",
       "      <th>1</th>\n",
       "      <td>101</td>\n",
       "      <td>Physics</td>\n",
       "      <td>Mr. Smith</td>\n",
       "      <td>4</td>\n",
       "      <td>David</td>\n",
       "    </tr>\n",
       "    <tr>\n",
       "      <th>2</th>\n",
       "      <td>102</td>\n",
       "      <td>Chem</td>\n",
       "      <td>Ms. Johnson</td>\n",
       "      <td>2</td>\n",
       "      <td>Bob</td>\n",
       "    </tr>\n",
       "    <tr>\n",
       "      <th>3</th>\n",
       "      <td>102</td>\n",
       "      <td>Chem</td>\n",
       "      <td>Ms. Johnson</td>\n",
       "      <td>5</td>\n",
       "      <td>Eva</td>\n",
       "    </tr>\n",
       "    <tr>\n",
       "      <th>4</th>\n",
       "      <td>103</td>\n",
       "      <td>Maths</td>\n",
       "      <td>Dr. Lee</td>\n",
       "      <td>3</td>\n",
       "      <td>Charlie</td>\n",
       "    </tr>\n",
       "  </tbody>\n",
       "</table>\n",
       "</div>"
      ],
      "text/plain": [
       "   DoctorID Specialty   DoctorName  PatientId PatientName\n",
       "0       101   Physics    Mr. Smith          1       Alice\n",
       "1       101   Physics    Mr. Smith          4       David\n",
       "2       102      Chem  Ms. Johnson          2         Bob\n",
       "3       102      Chem  Ms. Johnson          5         Eva\n",
       "4       103     Maths      Dr. Lee          3     Charlie"
      ]
     },
     "execution_count": 93,
     "metadata": {},
     "output_type": "execute_result"
    }
   ],
   "source": [
    "\n",
    "\n",
    "df1 : pd.DataFrame = pd.merge(patients, doctors)\n",
    "df1\n",
    "\n"
   ]
  },
  {
   "cell_type": "code",
   "execution_count": 94,
   "metadata": {},
   "outputs": [
    {
     "data": {
      "text/html": [
       "<div>\n",
       "<style scoped>\n",
       "    .dataframe tbody tr th:only-of-type {\n",
       "        vertical-align: middle;\n",
       "    }\n",
       "\n",
       "    .dataframe tbody tr th {\n",
       "        vertical-align: top;\n",
       "    }\n",
       "\n",
       "    .dataframe thead th {\n",
       "        text-align: right;\n",
       "    }\n",
       "</style>\n",
       "<table border=\"1\" class=\"dataframe\">\n",
       "  <thead>\n",
       "    <tr style=\"text-align: right;\">\n",
       "      <th></th>\n",
       "      <th>PatientId</th>\n",
       "      <th>PatientName</th>\n",
       "      <th>DoctorID</th>\n",
       "    </tr>\n",
       "  </thead>\n",
       "  <tbody>\n",
       "    <tr>\n",
       "      <th>0</th>\n",
       "      <td>1</td>\n",
       "      <td>Alice</td>\n",
       "      <td>101</td>\n",
       "    </tr>\n",
       "    <tr>\n",
       "      <th>1</th>\n",
       "      <td>2</td>\n",
       "      <td>Bob</td>\n",
       "      <td>102</td>\n",
       "    </tr>\n",
       "    <tr>\n",
       "      <th>2</th>\n",
       "      <td>3</td>\n",
       "      <td>Charlie</td>\n",
       "      <td>103</td>\n",
       "    </tr>\n",
       "    <tr>\n",
       "      <th>3</th>\n",
       "      <td>4</td>\n",
       "      <td>David</td>\n",
       "      <td>101</td>\n",
       "    </tr>\n",
       "    <tr>\n",
       "      <th>4</th>\n",
       "      <td>5</td>\n",
       "      <td>Eva</td>\n",
       "      <td>102</td>\n",
       "    </tr>\n",
       "  </tbody>\n",
       "</table>\n",
       "</div>"
      ],
      "text/plain": [
       "   PatientId PatientName  DoctorID\n",
       "0          1       Alice       101\n",
       "1          2         Bob       102\n",
       "2          3     Charlie       103\n",
       "3          4       David       101\n",
       "4          5         Eva       102"
      ]
     },
     "metadata": {},
     "output_type": "display_data"
    },
    {
     "data": {
      "text/html": [
       "<div>\n",
       "<style scoped>\n",
       "    .dataframe tbody tr th:only-of-type {\n",
       "        vertical-align: middle;\n",
       "    }\n",
       "\n",
       "    .dataframe tbody tr th {\n",
       "        vertical-align: top;\n",
       "    }\n",
       "\n",
       "    .dataframe thead th {\n",
       "        text-align: right;\n",
       "    }\n",
       "</style>\n",
       "<table border=\"1\" class=\"dataframe\">\n",
       "  <thead>\n",
       "    <tr style=\"text-align: right;\">\n",
       "      <th></th>\n",
       "      <th>DoctorID</th>\n",
       "      <th>Specialty</th>\n",
       "      <th>DoctorName</th>\n",
       "    </tr>\n",
       "  </thead>\n",
       "  <tbody>\n",
       "    <tr>\n",
       "      <th>0</th>\n",
       "      <td>101</td>\n",
       "      <td>Physics</td>\n",
       "      <td>Mr. Smith</td>\n",
       "    </tr>\n",
       "    <tr>\n",
       "      <th>1</th>\n",
       "      <td>102</td>\n",
       "      <td>Chem</td>\n",
       "      <td>Ms. Johnson</td>\n",
       "    </tr>\n",
       "    <tr>\n",
       "      <th>2</th>\n",
       "      <td>103</td>\n",
       "      <td>Maths</td>\n",
       "      <td>Dr. Lee</td>\n",
       "    </tr>\n",
       "  </tbody>\n",
       "</table>\n",
       "</div>"
      ],
      "text/plain": [
       "   DoctorID Specialty   DoctorName\n",
       "0       101   Physics    Mr. Smith\n",
       "1       102      Chem  Ms. Johnson\n",
       "2       103     Maths      Dr. Lee"
      ]
     },
     "metadata": {},
     "output_type": "display_data"
    },
    {
     "name": "stdout",
     "output_type": "stream",
     "text": [
      "Result\n"
     ]
    },
    {
     "data": {
      "text/html": [
       "<div>\n",
       "<style scoped>\n",
       "    .dataframe tbody tr th:only-of-type {\n",
       "        vertical-align: middle;\n",
       "    }\n",
       "\n",
       "    .dataframe tbody tr th {\n",
       "        vertical-align: top;\n",
       "    }\n",
       "\n",
       "    .dataframe thead th {\n",
       "        text-align: right;\n",
       "    }\n",
       "</style>\n",
       "<table border=\"1\" class=\"dataframe\">\n",
       "  <thead>\n",
       "    <tr style=\"text-align: right;\">\n",
       "      <th></th>\n",
       "      <th>DoctorID</th>\n",
       "      <th>Specialty</th>\n",
       "      <th>DoctorName</th>\n",
       "      <th>PatientId</th>\n",
       "      <th>PatientName</th>\n",
       "    </tr>\n",
       "  </thead>\n",
       "  <tbody>\n",
       "    <tr>\n",
       "      <th>0</th>\n",
       "      <td>101</td>\n",
       "      <td>Physics</td>\n",
       "      <td>Mr. Smith</td>\n",
       "      <td>1</td>\n",
       "      <td>Alice</td>\n",
       "    </tr>\n",
       "    <tr>\n",
       "      <th>1</th>\n",
       "      <td>101</td>\n",
       "      <td>Physics</td>\n",
       "      <td>Mr. Smith</td>\n",
       "      <td>4</td>\n",
       "      <td>David</td>\n",
       "    </tr>\n",
       "    <tr>\n",
       "      <th>2</th>\n",
       "      <td>102</td>\n",
       "      <td>Chem</td>\n",
       "      <td>Ms. Johnson</td>\n",
       "      <td>2</td>\n",
       "      <td>Bob</td>\n",
       "    </tr>\n",
       "    <tr>\n",
       "      <th>3</th>\n",
       "      <td>102</td>\n",
       "      <td>Chem</td>\n",
       "      <td>Ms. Johnson</td>\n",
       "      <td>5</td>\n",
       "      <td>Eva</td>\n",
       "    </tr>\n",
       "    <tr>\n",
       "      <th>4</th>\n",
       "      <td>103</td>\n",
       "      <td>Maths</td>\n",
       "      <td>Dr. Lee</td>\n",
       "      <td>3</td>\n",
       "      <td>Charlie</td>\n",
       "    </tr>\n",
       "  </tbody>\n",
       "</table>\n",
       "</div>"
      ],
      "text/plain": [
       "   DoctorID Specialty   DoctorName  PatientId PatientName\n",
       "0       101   Physics    Mr. Smith          1       Alice\n",
       "1       101   Physics    Mr. Smith          4       David\n",
       "2       102      Chem  Ms. Johnson          2         Bob\n",
       "3       102      Chem  Ms. Johnson          5         Eva\n",
       "4       103     Maths      Dr. Lee          3     Charlie"
      ]
     },
     "execution_count": 94,
     "metadata": {},
     "output_type": "execute_result"
    }
   ],
   "source": [
    "\n",
    "\n",
    "display(doctors)\n",
    "display(patients)\n",
    "\n",
    "df1 : pd.DataFrame = pd.merge(patients, doctors, on=\"DoctorID\")\n",
    "print(\"Result\")\n",
    "df1\n",
    "\n"
   ]
  },
  {
   "cell_type": "code",
   "execution_count": 95,
   "metadata": {},
   "outputs": [
    {
     "data": {
      "text/html": [
       "<div>\n",
       "<style scoped>\n",
       "    .dataframe tbody tr th:only-of-type {\n",
       "        vertical-align: middle;\n",
       "    }\n",
       "\n",
       "    .dataframe tbody tr th {\n",
       "        vertical-align: top;\n",
       "    }\n",
       "\n",
       "    .dataframe thead th {\n",
       "        text-align: right;\n",
       "    }\n",
       "</style>\n",
       "<table border=\"1\" class=\"dataframe\">\n",
       "  <thead>\n",
       "    <tr style=\"text-align: right;\">\n",
       "      <th></th>\n",
       "      <th>PatientId</th>\n",
       "      <th>PatientName</th>\n",
       "      <th>DoctorID</th>\n",
       "      <th>DoctorID</th>\n",
       "      <th>Specialty</th>\n",
       "      <th>DoctorName</th>\n",
       "      <th>DoctorID</th>\n",
       "      <th>fee_paid</th>\n",
       "    </tr>\n",
       "  </thead>\n",
       "  <tbody>\n",
       "    <tr>\n",
       "      <th>0</th>\n",
       "      <td>1</td>\n",
       "      <td>Alice</td>\n",
       "      <td>101</td>\n",
       "      <td>101.0</td>\n",
       "      <td>Physics</td>\n",
       "      <td>Mr. Smith</td>\n",
       "      <td>1</td>\n",
       "      <td>1500</td>\n",
       "    </tr>\n",
       "    <tr>\n",
       "      <th>1</th>\n",
       "      <td>2</td>\n",
       "      <td>Bob</td>\n",
       "      <td>102</td>\n",
       "      <td>102.0</td>\n",
       "      <td>Chem</td>\n",
       "      <td>Ms. Johnson</td>\n",
       "      <td>2</td>\n",
       "      <td>1500</td>\n",
       "    </tr>\n",
       "    <tr>\n",
       "      <th>2</th>\n",
       "      <td>3</td>\n",
       "      <td>Charlie</td>\n",
       "      <td>103</td>\n",
       "      <td>103.0</td>\n",
       "      <td>Maths</td>\n",
       "      <td>Dr. Lee</td>\n",
       "      <td>3</td>\n",
       "      <td>1500</td>\n",
       "    </tr>\n",
       "    <tr>\n",
       "      <th>3</th>\n",
       "      <td>4</td>\n",
       "      <td>David</td>\n",
       "      <td>101</td>\n",
       "      <td>NaN</td>\n",
       "      <td>NaN</td>\n",
       "      <td>NaN</td>\n",
       "      <td>4</td>\n",
       "      <td>1500</td>\n",
       "    </tr>\n",
       "    <tr>\n",
       "      <th>4</th>\n",
       "      <td>5</td>\n",
       "      <td>Eva</td>\n",
       "      <td>102</td>\n",
       "      <td>NaN</td>\n",
       "      <td>NaN</td>\n",
       "      <td>NaN</td>\n",
       "      <td>5</td>\n",
       "      <td>1500</td>\n",
       "    </tr>\n",
       "  </tbody>\n",
       "</table>\n",
       "</div>"
      ],
      "text/plain": [
       "   PatientId PatientName  DoctorID  DoctorID Specialty   DoctorName  DoctorID  \\\n",
       "0          1       Alice       101     101.0   Physics    Mr. Smith         1   \n",
       "1          2         Bob       102     102.0      Chem  Ms. Johnson         2   \n",
       "2          3     Charlie       103     103.0     Maths      Dr. Lee         3   \n",
       "3          4       David       101       NaN       NaN          NaN         4   \n",
       "4          5         Eva       102       NaN       NaN          NaN         5   \n",
       "\n",
       "   fee_paid  \n",
       "0      1500  \n",
       "1      1500  \n",
       "2      1500  \n",
       "3      1500  \n",
       "4      1500  "
      ]
     },
     "execution_count": 95,
     "metadata": {},
     "output_type": "execute_result"
    }
   ],
   "source": [
    "pd.concat([doctors, patients, patients_fees], axis=1)"
   ]
  }
 ],
 "metadata": {
  "kernelspec": {
   "display_name": "base",
   "language": "python",
   "name": "python3"
  },
  "language_info": {
   "codemirror_mode": {
    "name": "ipython",
    "version": 3
   },
   "file_extension": ".py",
   "mimetype": "text/x-python",
   "name": "python",
   "nbconvert_exporter": "python",
   "pygments_lexer": "ipython3",
   "version": "3.12.0"
  }
 },
 "nbformat": 4,
 "nbformat_minor": 2
}
